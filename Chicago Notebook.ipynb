{
 "cells": [
  {
   "cell_type": "code",
   "execution_count": 1,
   "metadata": {},
   "outputs": [],
   "source": [
    "import pyspark as ps\n",
    "from pyspark.sql import SQLContext\n",
    "from pyspark.sql.functions import col\n",
    "from pyspark.ml import Pipeline\n",
    "from pyspark.ml.classification import LogisticRegression\n",
    "from pyspark.ml.feature import CountVectorizer, Tokenizer\n",
    "from sklearn.linear_model import LinearRegression\n",
    "from sklearn.model_selection import train_test_split, GridSearchCV\n",
    "from sklearn.metrics import mean_squared_log_error\n",
    "from sklearn.linear_model import SGDRegressor\n",
    "from sklearn.pipeline import Pipeline\n",
    "from sklearn.feature_extraction.text import TfidfVectorizer\n",
    "from sklearn.model_selection import cross_val_score\n",
    "import time\n",
    "import pandas as pd\n",
    "import pymysql\n",
    "spark = (\n",
    "        ps.sql.SparkSession.builder \n",
    "        .master(\"justin\") \n",
    "        .appName(\"chicago\") \n",
    "        .getOrCreate()\n",
    "        )\n",
    "\n",
    "sc = spark.sparkContext"
   ]
  },
  {
   "cell_type": "code",
   "execution_count": null,
   "metadata": {},
   "outputs": [],
   "source": [
    "df_sp = spark.read.csv('/home/justin/Downloads/bq-results-20190515-182310-9jmw514pxnfg.csv', header='true',\n",
    "                       inferSchema='true')"
   ]
  },
  {
   "cell_type": "code",
   "execution_count": 3,
   "metadata": {},
   "outputs": [],
   "source": [
    "df_pd = df_sp.select('unique_key','arrest','block','community_area','district','latitude','longitude').toPandas()"
   ]
  },
  {
   "cell_type": "code",
   "execution_count": 4,
   "metadata": {},
   "outputs": [],
   "source": [
    "train = df_pd[df_pd.longitude.isnull()==False]\n",
    "test = df_pd[df_pd.longitude.isnull()==True]"
   ]
  },
  {
   "cell_type": "code",
   "execution_count": 5,
   "metadata": {
    "scrolled": true
   },
   "outputs": [],
   "source": [
    "X_train = train[train.columns.difference(['arrest','longitude'])].block.values\n",
    "y_train = train['longitude']"
   ]
  },
  {
   "cell_type": "code",
   "execution_count": 6,
   "metadata": {},
   "outputs": [],
   "source": [
    "vect = TfidfVectorizer()\n",
    "X_train_vect=vect.fit_transform(X_train)"
   ]
  },
  {
   "cell_type": "code",
   "execution_count": 7,
   "metadata": {},
   "outputs": [],
   "source": [
    "model = SGDRegressor(loss=\"squared_loss\", penalty='l2', random_state=101, max_iter=5)\n",
    "params= {'penalty':['none','l2','l1'],\n",
    "        'alpha':[5e-4,5e-2, .1]}\n",
    "gs=GridSearchCV(estimator=model,\n",
    "               param_grid=params,\n",
    "               scoring='neg_mean_squared_error',\n",
    "               n_jobs=1,\n",
    "               cv=5,\n",
    "               verbose=3)\n",
    "start=time.time()\n",
    "gs.fit(X_train_vect, y_train)\n",
    "end=time.time()\n",
    "print(\"Time it took {}\".format(end-start))"
   ]
  },
  {
   "cell_type": "code",
   "execution_count": null,
   "metadata": {
    "scrolled": true
   },
   "outputs": [],
   "source": [
    "model = gs.best_estimator_\n",
    "pipe = Pipeline([('vect',vect),('model',model)])\n",
    "y_pred = pipe.predict(test.block.values)"
   ]
  },
  {
   "cell_type": "code",
   "execution_count": 9,
   "metadata": {},
   "outputs": [],
   "source": [
    "for idx, val in enumerate(test.index):\n",
    "    df_pd.iloc[val,5] = y_pred[idx] "
   ]
  },
  {
   "cell_type": "code",
   "execution_count": 12,
   "metadata": {},
   "outputs": [],
   "source": [
    "train_lat = df_pd[df_pd.latitude.isnull()==False]\n",
    "test_lat = df_pd[df_pd.latitude.isnull()==True]"
   ]
  },
  {
   "cell_type": "code",
   "execution_count": 13,
   "metadata": {
    "scrolled": true
   },
   "outputs": [],
   "source": [
    "X_train_lat = train_lat[train_lat.columns.difference(['arrest','latitude'])].block.values\n",
    "y_train_lat = train_lat['latitude']"
   ]
  },
  {
   "cell_type": "code",
   "execution_count": 14,
   "metadata": {},
   "outputs": [],
   "source": [
    "vect_lat = TfidfVectorizer()\n",
    "X_train_vect_lat=vect_lat.fit_transform(X_train_lat)"
   ]
  },
  {
   "cell_type": "code",
   "execution_count": 15,
   "metadata": {},
   "outputs": [],
   "source": [
    "model = SGDRegressor(loss=\"squared_loss\", penalty='l2', random_state=101, max_iter=5)\n",
    "params= {'penalty':['none','l2','l1'],\n",
    "        'alpha':[5e-4,5e-2, .1]}\n",
    "gs=GridSearchCV(estimator=model,\n",
    "               param_grid=params,\n",
    "               scoring='neg_mean_squared_error',\n",
    "               n_jobs=1,\n",
    "               cv=5,\n",
    "               verbose=3)\n",
    "start=time.time()\n",
    "gs.fit(X_train_vect_lat, y_train_lat)\n",
    "end=time.time()\n",
    "print(\"Time it took {}\".format(end-start))"
   ]
  },
  {
   "cell_type": "code",
   "execution_count": null,
   "metadata": {
    "scrolled": true
   },
   "outputs": [],
   "source": [
    "model1 = gs.best_estimator_\n",
    "pipe = Pipeline([('vect',vect_lat),('model',model1)])\n",
    "y_pred = pipe.predict(test_lat.block.values)"
   ]
  },
  {
   "cell_type": "code",
   "execution_count": 17,
   "metadata": {},
   "outputs": [],
   "source": [
    "for idx, val in enumerate(test_lat.index):\n",
    "    df_pd.iloc[val,4] = y_pred[idx] \n"
   ]
  },
  {
   "cell_type": "code",
   "execution_count": 18,
   "metadata": {},
   "outputs": [],
   "source": [
    "df_pd.to_pickle(\"./chicago.pkl\")"
   ]
  },
  {
   "cell_type": "code",
   "execution_count": null,
   "metadata": {},
   "outputs": [],
   "source": [
    "unpickled_df = pd.read_pickle(\"./chicago.pkl\")"
   ]
  },
  {
   "cell_type": "code",
   "execution_count": 20,
   "metadata": {},
   "outputs": [],
   "source": []
  },
  {
   "cell_type": "code",
   "execution_count": 8,
   "metadata": {},
   "outputs": [],
   "source": [
    "unpickled_df = pd.concat([df_pd.unique_key, unpickled_df], axis=1, sort=False)"
   ]
  },
  {
   "cell_type": "code",
   "execution_count": 7,
   "metadata": {},
   "outputs": [
    {
     "ename": "NameError",
     "evalue": "name 'df_pd' is not defined",
     "output_type": "error",
     "traceback": [
      "\u001b[0;31m---------------------------------------------------------------------------\u001b[0m",
      "\u001b[0;31mNameError\u001b[0m                                 Traceback (most recent call last)",
      "\u001b[0;32m<ipython-input-7-68476d2c3511>\u001b[0m in \u001b[0;36m<module>\u001b[0;34m\u001b[0m\n\u001b[0;32m----> 1\u001b[0;31m \u001b[0munpickled_df\u001b[0m \u001b[0;34m=\u001b[0m \u001b[0mpd\u001b[0m\u001b[0;34m.\u001b[0m\u001b[0mconcat\u001b[0m\u001b[0;34m(\u001b[0m\u001b[0;34m[\u001b[0m\u001b[0mdf_pd\u001b[0m\u001b[0;34m.\u001b[0m\u001b[0munique_key\u001b[0m\u001b[0;34m,\u001b[0m \u001b[0munpickled_df\u001b[0m\u001b[0;34m]\u001b[0m\u001b[0;34m,\u001b[0m \u001b[0maxis\u001b[0m\u001b[0;34m=\u001b[0m\u001b[0;36m1\u001b[0m\u001b[0;34m,\u001b[0m \u001b[0msort\u001b[0m\u001b[0;34m=\u001b[0m\u001b[0;32mFalse\u001b[0m\u001b[0;34m)\u001b[0m\u001b[0;34m\u001b[0m\u001b[0;34m\u001b[0m\u001b[0m\n\u001b[0m",
      "\u001b[0;31mNameError\u001b[0m: name 'df_pd' is not defined"
     ]
    }
   ],
   "source": []
  },
  {
   "cell_type": "code",
   "execution_count": 8,
   "metadata": {
    "scrolled": true
   },
   "outputs": [],
   "source": [
    "unpickled_df = unpickled_df.rename(index=str, columns={'latitude':'Latitude1','longitude':'Longitude1','arrest':'arrest1'})"
   ]
  },
  {
   "cell_type": "code",
   "execution_count": 10,
   "metadata": {},
   "outputs": [],
   "source": [
    "df_sp2 = spark.createDataFrame(unpickled_df)"
   ]
  },
  {
   "cell_type": "code",
   "execution_count": 11,
   "metadata": {},
   "outputs": [],
   "source": [
    "df = df_sp.join(df_sp2,['unique_key'],\"inner\")"
   ]
  },
  {
   "cell_type": "code",
   "execution_count": 12,
   "metadata": {
    "scrolled": true
   },
   "outputs": [
    {
     "name": "stdout",
     "output_type": "stream",
     "text": [
      "+----------+-----------+-----------------------+-----------------------+----+------------+-------------------+--------------------+------+--------+----+--------+----+--------------+--------+------------+------------+----+-----------------------+------------+-------------+-----------------------------+------+-----------------------+--------------+--------+------------+-------------+\n",
      "|unique_key|case_number|date                   |block                  |iucr|primary_type|description        |location_description|arrest|domestic|beat|district|ward|community_area|fbi_code|x_coordinate|y_coordinate|year|updated_on             |latitude    |longitude    |location                     |arrest|block                  |community_area|district|Latitude1   |Longitude1   |\n",
      "+----------+-----------+-----------------------+-----------------------+----+------------+-------------------+--------------------+------+--------+----+--------+----+--------------+--------+------------+------------+----+-----------------------+------------+-------------+-----------------------------+------+-----------------------+--------------+--------+------------+-------------+\n",
      "|4590      |HP407382   |2008-06-21 00:37:00 UTC|062XX S ASHLAND AVE    |0110|HOMICIDE    |FIRST DEGREE MURDER|STREET              |true  |false   |714 |7       |16  |67            |01A     |1166742     |1863247     |2008|2019-03-19 16:11:22 UTC|41.780313815|-87.66424283 |(41.780313815, -87.66424283) |true  |062XX S ASHLAND AVE    |67.0          |7.0     |41.780313815|-87.66424283 |\n",
      "|4823      |HP659177   |2008-11-01 01:55:00 UTC|028XX N ROCKWELL ST    |0110|HOMICIDE    |FIRST DEGREE MURDER|ALLEY               |false |false   |1411|14      |1   |21            |01A     |1158544     |1918729     |2008|2019-03-19 16:11:22 UTC|41.932733398|-87.692780748|(41.932733398, -87.692780748)|false |028XX N ROCKWELL ST    |21.0          |14.0    |41.932733398|-87.692780748|\n",
      "|4894      |HR112006   |2009-01-08 16:28:00 UTC|059XX S SPRINGFIELD AVE|0110|HOMICIDE    |FIRST DEGREE MURDER|STREET              |false |false   |822 |8       |13  |65            |01A     |1151395     |1864715     |2009|2019-03-18 16:08:09 UTC|41.784656149|-87.72046962 |(41.784656149, -87.72046962) |false |059XX S SPRINGFIELD AVE|65.0          |8.0     |41.784656149|-87.72046962 |\n",
      "|19141     |HR610087   |2009-10-26 23:44:00 UTC|022XX N TRIPP AVE      |0110|HOMICIDE    |FIRST DEGREE MURDER|AUTO                |true  |false   |2522|25      |31  |20            |01A     |1147682     |1914600     |2009|2019-03-18 16:08:09 UTC|41.921618793|-87.732804061|(41.921618793, -87.732804061)|true  |022XX N TRIPP AVE      |20.0          |25.0    |41.921618793|-87.732804061|\n",
      "|19158     |HR626854   |2009-11-04 23:25:00 UTC|054XX W WEST END AVE   |0110|HOMICIDE    |FIRST DEGREE MURDER|STREET              |false |false   |1523|15      |28  |25            |01A     |1140207     |1900947     |2009|2019-03-19 16:11:22 UTC|41.884293718|-87.760604435|(41.884293718, -87.760604435)|false |054XX W WEST END AVE   |25.0          |15.0    |41.884293718|-87.760604435|\n",
      "+----------+-----------+-----------------------+-----------------------+----+------------+-------------------+--------------------+------+--------+----+--------+----+--------------+--------+------------+------------+----+-----------------------+------------+-------------+-----------------------------+------+-----------------------+--------------+--------+------------+-------------+\n",
      "only showing top 5 rows\n",
      "\n"
     ]
    }
   ],
   "source": [
    "df.show(5,False)"
   ]
  },
  {
   "cell_type": "code",
   "execution_count": 56,
   "metadata": {},
   "outputs": [],
   "source": [
    "from pyspark.sql.functions import to_timestamp,year, month, dayofmonth, hour,when \n",
    "from pyspark.sql.functions import lit\n",
    "\n",
    "df_sp_dt = df.withColumn('dt',to_timestamp(df_sp.date,'yyyy-MM-dd HH:mm:ss'))\\\n",
    "        .withColumn('Year',year(col(\"dt\")))\\\n",
    "        .withColumn('Month',month(col(\"dt\")))\\\n",
    "        .withColumn('Hour',hour(col(\"dt\")))\\\n",
    "        .withColumn('Night?', when(col('Hour')>=17,1).otherwise(0))\\\n",
    "        .withColumn('Domestic1', when(col('domestic')=='false',0).otherwise(1))\\\n",
    "        .withColumn('Arrest1', when(col('arrest')==True,1).otherwise(0))\n",
    "        "
   ]
  },
  {
   "cell_type": "code",
   "execution_count": 57,
   "metadata": {},
   "outputs": [
    {
     "data": {
      "text/plain": [
       "DataFrame[Arrest1: int]"
      ]
     },
     "execution_count": 57,
     "metadata": {},
     "output_type": "execute_result"
    }
   ],
   "source": [
    "# df_sp_dt.rdd.saveAsPickleFile(\"./chicago1.pkl\")\n",
    "\n",
    "# pickleRdd = sc.pickleFile(\"./chicago1.pkl\").collect()\n",
    "# df2 = spark.createDataFrame(pickleRdd)\n",
    "df_sp_dt.select('Arrest1')"
   ]
  },
  {
   "cell_type": "code",
   "execution_count": 43,
   "metadata": {},
   "outputs": [],
   "source": [
    "from pyspark.ml.feature import HashingTF,IDF, Tokenizer\n"
   ]
  },
  {
   "cell_type": "code",
   "execution_count": null,
   "metadata": {},
   "outputs": [],
   "source": []
  },
  {
   "cell_type": "code",
   "execution_count": 44,
   "metadata": {},
   "outputs": [],
   "source": [
    "from pyspark.ml.feature import OneHotEncoderEstimator,StringIndexer, VectorAssembler\n"
   ]
  },
  {
   "cell_type": "code",
   "execution_count": 58,
   "metadata": {},
   "outputs": [
    {
     "name": "stdout",
     "output_type": "stream",
     "text": [
      "root\n",
      " |-- Arrest1: integer (nullable = false)\n",
      " |-- primary_type: string (nullable = true)\n",
      " |-- fbi_code: string (nullable = true)\n",
      " |-- month: integer (nullable = true)\n",
      " |-- Night?: integer (nullable = false)\n",
      " |-- Domestic1: integer (nullable = false)\n",
      " |-- Latitude1: double (nullable = true)\n",
      " |-- Longitude1: double (nullable = true)\n",
      "\n"
     ]
    }
   ],
   "source": [
    "df_pd2 = df_sp_dt.select('Arrest1','primary_type','fbi_code','month','Night?','Domestic1','Latitude1', 'Longitude1')\n",
    "df_pd2.printSchema()"
   ]
  },
  {
   "cell_type": "code",
   "execution_count": 59,
   "metadata": {},
   "outputs": [
    {
     "data": {
      "text/html": [
       "<div>\n",
       "<style scoped>\n",
       "    .dataframe tbody tr th:only-of-type {\n",
       "        vertical-align: middle;\n",
       "    }\n",
       "\n",
       "    .dataframe tbody tr th {\n",
       "        vertical-align: top;\n",
       "    }\n",
       "\n",
       "    .dataframe thead th {\n",
       "        text-align: right;\n",
       "    }\n",
       "</style>\n",
       "<table border=\"1\" class=\"dataframe\">\n",
       "  <thead>\n",
       "    <tr style=\"text-align: right;\">\n",
       "      <th></th>\n",
       "      <th>0</th>\n",
       "      <th>1</th>\n",
       "      <th>2</th>\n",
       "      <th>3</th>\n",
       "      <th>4</th>\n",
       "    </tr>\n",
       "  </thead>\n",
       "  <tbody>\n",
       "    <tr>\n",
       "      <th>Arrest1</th>\n",
       "      <td>1</td>\n",
       "      <td>0</td>\n",
       "      <td>0</td>\n",
       "      <td>1</td>\n",
       "      <td>0</td>\n",
       "    </tr>\n",
       "    <tr>\n",
       "      <th>primary_type</th>\n",
       "      <td>HOMICIDE</td>\n",
       "      <td>HOMICIDE</td>\n",
       "      <td>HOMICIDE</td>\n",
       "      <td>HOMICIDE</td>\n",
       "      <td>HOMICIDE</td>\n",
       "    </tr>\n",
       "    <tr>\n",
       "      <th>fbi_code</th>\n",
       "      <td>01A</td>\n",
       "      <td>01A</td>\n",
       "      <td>01A</td>\n",
       "      <td>01A</td>\n",
       "      <td>01A</td>\n",
       "    </tr>\n",
       "    <tr>\n",
       "      <th>month</th>\n",
       "      <td>6</td>\n",
       "      <td>11</td>\n",
       "      <td>1</td>\n",
       "      <td>10</td>\n",
       "      <td>11</td>\n",
       "    </tr>\n",
       "    <tr>\n",
       "      <th>Night?</th>\n",
       "      <td>0</td>\n",
       "      <td>0</td>\n",
       "      <td>0</td>\n",
       "      <td>1</td>\n",
       "      <td>1</td>\n",
       "    </tr>\n",
       "    <tr>\n",
       "      <th>Domestic1</th>\n",
       "      <td>0</td>\n",
       "      <td>0</td>\n",
       "      <td>0</td>\n",
       "      <td>0</td>\n",
       "      <td>0</td>\n",
       "    </tr>\n",
       "    <tr>\n",
       "      <th>Latitude1</th>\n",
       "      <td>41.7803</td>\n",
       "      <td>41.9327</td>\n",
       "      <td>41.7847</td>\n",
       "      <td>41.9216</td>\n",
       "      <td>41.8843</td>\n",
       "    </tr>\n",
       "    <tr>\n",
       "      <th>Longitude1</th>\n",
       "      <td>-87.6642</td>\n",
       "      <td>-87.6928</td>\n",
       "      <td>-87.7205</td>\n",
       "      <td>-87.7328</td>\n",
       "      <td>-87.7606</td>\n",
       "    </tr>\n",
       "  </tbody>\n",
       "</table>\n",
       "</div>"
      ],
      "text/plain": [
       "                     0         1         2         3         4\n",
       "Arrest1              1         0         0         1         0\n",
       "primary_type  HOMICIDE  HOMICIDE  HOMICIDE  HOMICIDE  HOMICIDE\n",
       "fbi_code           01A       01A       01A       01A       01A\n",
       "month                6        11         1        10        11\n",
       "Night?               0         0         0         1         1\n",
       "Domestic1            0         0         0         0         0\n",
       "Latitude1      41.7803   41.9327   41.7847   41.9216   41.8843\n",
       "Longitude1    -87.6642  -87.6928  -87.7205  -87.7328  -87.7606"
      ]
     },
     "execution_count": 59,
     "metadata": {},
     "output_type": "execute_result"
    }
   ],
   "source": [
    "pd.DataFrame(df_pd2.take(5), columns=df_pd2.columns).transpose()"
   ]
  },
  {
   "cell_type": "code",
   "execution_count": 60,
   "metadata": {},
   "outputs": [],
   "source": [
    "categorical_columns = ['primary_type','fbi_code','Night?','Domestic1']\n",
    "stages=[]\n",
    "for categorical_col in categorical_columns:\n",
    "    stringIndexer = StringIndexer(inputCol = categorical_col,\n",
    "                                  outputCol = categorical_col + 'Index')\n",
    "    encoder = OneHotEncoderEstimator(inputCols = [stringIndexer.getOutputCol()],\\\n",
    "                                     outputCols=[categorical_col + \"classVec\"])\n",
    "    stages += [stringIndexer, encoder]\n",
    "\n",
    "label_stringIdx = StringIndexer(inputCol = 'Arrest1',\n",
    "                                outputCol = 'label')\n",
    "stages += [label_stringIdx]\n",
    "\n",
    "numericalCols = ['Latitude1', 'Longitude1']\n",
    "assemblerInputs = [c + \"classVec\" for c in categorical_columns] + numericalCols\n",
    "assembler = VectorAssembler(inputCols = assemblerInputs,\\\n",
    "                            outputCol = \"features\")\n",
    "stages += [assembler]"
   ]
  },
  {
   "cell_type": "code",
   "execution_count": 62,
   "metadata": {},
   "outputs": [
    {
     "name": "stdout",
     "output_type": "stream",
     "text": [
      "root\n",
      " |-- label: double (nullable = false)\n",
      " |-- features: vector (nullable = true)\n",
      " |-- Arrest1: integer (nullable = false)\n",
      " |-- primary_type: string (nullable = true)\n",
      " |-- fbi_code: string (nullable = true)\n",
      " |-- month: integer (nullable = true)\n",
      " |-- Night?: integer (nullable = false)\n",
      " |-- Domestic1: integer (nullable = false)\n",
      " |-- Latitude1: double (nullable = true)\n",
      " |-- Longitude1: double (nullable = true)\n",
      "\n"
     ]
    }
   ],
   "source": [
    "from pyspark.ml import Pipeline\n",
    "cols = df_pd2.columns\n",
    "pipeline = Pipeline(stages = stages)\n",
    "pipelineModel = pipeline.fit(df_pd2)\n",
    "df = pipelineModel.transform(df_pd2)\n",
    "selectedCols = ['label', 'features'] + cols\n",
    "df = df.select(selectedCols)\n",
    "df.printSchema()"
   ]
  },
  {
   "cell_type": "code",
   "execution_count": 63,
   "metadata": {},
   "outputs": [
    {
     "data": {
      "text/html": [
       "<div>\n",
       "<style scoped>\n",
       "    .dataframe tbody tr th:only-of-type {\n",
       "        vertical-align: middle;\n",
       "    }\n",
       "\n",
       "    .dataframe tbody tr th {\n",
       "        vertical-align: top;\n",
       "    }\n",
       "\n",
       "    .dataframe thead th {\n",
       "        text-align: right;\n",
       "    }\n",
       "</style>\n",
       "<table border=\"1\" class=\"dataframe\">\n",
       "  <thead>\n",
       "    <tr style=\"text-align: right;\">\n",
       "      <th></th>\n",
       "      <th>0</th>\n",
       "      <th>1</th>\n",
       "      <th>2</th>\n",
       "      <th>3</th>\n",
       "      <th>4</th>\n",
       "    </tr>\n",
       "  </thead>\n",
       "  <tbody>\n",
       "    <tr>\n",
       "      <th>label</th>\n",
       "      <td>1</td>\n",
       "      <td>0</td>\n",
       "      <td>0</td>\n",
       "      <td>1</td>\n",
       "      <td>0</td>\n",
       "    </tr>\n",
       "    <tr>\n",
       "      <th>features</th>\n",
       "      <td>(0.0, 0.0, 0.0, 0.0, 0.0, 0.0, 0.0, 0.0, 0.0, ...</td>\n",
       "      <td>(0.0, 0.0, 0.0, 0.0, 0.0, 0.0, 0.0, 0.0, 0.0, ...</td>\n",
       "      <td>(0.0, 0.0, 0.0, 0.0, 0.0, 0.0, 0.0, 0.0, 0.0, ...</td>\n",
       "      <td>(0.0, 0.0, 0.0, 0.0, 0.0, 0.0, 0.0, 0.0, 0.0, ...</td>\n",
       "      <td>(0.0, 0.0, 0.0, 0.0, 0.0, 0.0, 0.0, 0.0, 0.0, ...</td>\n",
       "    </tr>\n",
       "    <tr>\n",
       "      <th>Arrest1</th>\n",
       "      <td>1</td>\n",
       "      <td>0</td>\n",
       "      <td>0</td>\n",
       "      <td>1</td>\n",
       "      <td>0</td>\n",
       "    </tr>\n",
       "    <tr>\n",
       "      <th>primary_type</th>\n",
       "      <td>HOMICIDE</td>\n",
       "      <td>HOMICIDE</td>\n",
       "      <td>HOMICIDE</td>\n",
       "      <td>HOMICIDE</td>\n",
       "      <td>HOMICIDE</td>\n",
       "    </tr>\n",
       "    <tr>\n",
       "      <th>fbi_code</th>\n",
       "      <td>01A</td>\n",
       "      <td>01A</td>\n",
       "      <td>01A</td>\n",
       "      <td>01A</td>\n",
       "      <td>01A</td>\n",
       "    </tr>\n",
       "    <tr>\n",
       "      <th>month</th>\n",
       "      <td>6</td>\n",
       "      <td>11</td>\n",
       "      <td>1</td>\n",
       "      <td>10</td>\n",
       "      <td>11</td>\n",
       "    </tr>\n",
       "    <tr>\n",
       "      <th>Night?</th>\n",
       "      <td>0</td>\n",
       "      <td>0</td>\n",
       "      <td>0</td>\n",
       "      <td>1</td>\n",
       "      <td>1</td>\n",
       "    </tr>\n",
       "    <tr>\n",
       "      <th>Domestic1</th>\n",
       "      <td>0</td>\n",
       "      <td>0</td>\n",
       "      <td>0</td>\n",
       "      <td>0</td>\n",
       "      <td>0</td>\n",
       "    </tr>\n",
       "    <tr>\n",
       "      <th>Latitude1</th>\n",
       "      <td>41.7803</td>\n",
       "      <td>41.9327</td>\n",
       "      <td>41.7847</td>\n",
       "      <td>41.9216</td>\n",
       "      <td>41.8843</td>\n",
       "    </tr>\n",
       "    <tr>\n",
       "      <th>Longitude1</th>\n",
       "      <td>-87.6642</td>\n",
       "      <td>-87.6928</td>\n",
       "      <td>-87.7205</td>\n",
       "      <td>-87.7328</td>\n",
       "      <td>-87.7606</td>\n",
       "    </tr>\n",
       "  </tbody>\n",
       "</table>\n",
       "</div>"
      ],
      "text/plain": [
       "                                                              0  \\\n",
       "label                                                         1   \n",
       "features      (0.0, 0.0, 0.0, 0.0, 0.0, 0.0, 0.0, 0.0, 0.0, ...   \n",
       "Arrest1                                                       1   \n",
       "primary_type                                           HOMICIDE   \n",
       "fbi_code                                                    01A   \n",
       "month                                                         6   \n",
       "Night?                                                        0   \n",
       "Domestic1                                                     0   \n",
       "Latitude1                                               41.7803   \n",
       "Longitude1                                             -87.6642   \n",
       "\n",
       "                                                              1  \\\n",
       "label                                                         0   \n",
       "features      (0.0, 0.0, 0.0, 0.0, 0.0, 0.0, 0.0, 0.0, 0.0, ...   \n",
       "Arrest1                                                       0   \n",
       "primary_type                                           HOMICIDE   \n",
       "fbi_code                                                    01A   \n",
       "month                                                        11   \n",
       "Night?                                                        0   \n",
       "Domestic1                                                     0   \n",
       "Latitude1                                               41.9327   \n",
       "Longitude1                                             -87.6928   \n",
       "\n",
       "                                                              2  \\\n",
       "label                                                         0   \n",
       "features      (0.0, 0.0, 0.0, 0.0, 0.0, 0.0, 0.0, 0.0, 0.0, ...   \n",
       "Arrest1                                                       0   \n",
       "primary_type                                           HOMICIDE   \n",
       "fbi_code                                                    01A   \n",
       "month                                                         1   \n",
       "Night?                                                        0   \n",
       "Domestic1                                                     0   \n",
       "Latitude1                                               41.7847   \n",
       "Longitude1                                             -87.7205   \n",
       "\n",
       "                                                              3  \\\n",
       "label                                                         1   \n",
       "features      (0.0, 0.0, 0.0, 0.0, 0.0, 0.0, 0.0, 0.0, 0.0, ...   \n",
       "Arrest1                                                       1   \n",
       "primary_type                                           HOMICIDE   \n",
       "fbi_code                                                    01A   \n",
       "month                                                        10   \n",
       "Night?                                                        1   \n",
       "Domestic1                                                     0   \n",
       "Latitude1                                               41.9216   \n",
       "Longitude1                                             -87.7328   \n",
       "\n",
       "                                                              4  \n",
       "label                                                         0  \n",
       "features      (0.0, 0.0, 0.0, 0.0, 0.0, 0.0, 0.0, 0.0, 0.0, ...  \n",
       "Arrest1                                                       0  \n",
       "primary_type                                           HOMICIDE  \n",
       "fbi_code                                                    01A  \n",
       "month                                                        11  \n",
       "Night?                                                        1  \n",
       "Domestic1                                                     0  \n",
       "Latitude1                                               41.8843  \n",
       "Longitude1                                             -87.7606  "
      ]
     },
     "execution_count": 63,
     "metadata": {},
     "output_type": "execute_result"
    }
   ],
   "source": [
    "pd.DataFrame(df.take(5), columns = df.columns).transpose()"
   ]
  },
  {
   "cell_type": "code",
   "execution_count": 65,
   "metadata": {},
   "outputs": [
    {
     "name": "stdout",
     "output_type": "stream",
     "text": [
      "Training set count 1314333\n",
      "Test set count 563509\n"
     ]
    }
   ],
   "source": [
    "train, test = df.randomSplit([.7,.3], seed = 2019)\n",
    "print(\"Training set count {}\".format(train.count()))\n",
    "print(\"Test set count {}\".format(test.count()))"
   ]
  },
  {
   "cell_type": "code",
   "execution_count": 68,
   "metadata": {},
   "outputs": [],
   "source": [
    "from pyspark.ml.classification import LogisticRegression\n",
    "lr = LogisticRegression(featuresCol = \"features\", labelCol = 'label', maxIter=10)\n",
    "lrModel = lr.fit(train)"
   ]
  },
  {
   "cell_type": "code",
   "execution_count": 71,
   "metadata": {},
   "outputs": [
    {
     "data": {
      "image/png": "[encoded data removed]",
      "text/plain": [
       "<Figure size 432x288 with 1 Axes>"
      ]
     },
     "metadata": {
      "needs_background": "light"
     },
     "output_type": "display_data"
    }
   ],
   "source": [
    "import matplotlib.pyplot as plt\n",
    "import numpy as np\n",
    "\n",
    "beta = np.sort(lrModel.coefficients)\n",
    "plt.plot(beta)\n",
    "plt.ylabel('Beta Coefficients')\n",
    "plt.show()"
   ]
  },
  {
   "cell_type": "code",
   "execution_count": 75,
   "metadata": {},
   "outputs": [
    {
     "data": {
      "image/png": "[encoded data removed]",
      "text/plain": [
       "<Figure size 432x288 with 1 Axes>"
      ]
     },
     "metadata": {
      "needs_background": "light"
     },
     "output_type": "display_data"
    },
    {
     "name": "stdout",
     "output_type": "stream",
     "text": [
      "Training set areaUnderROC 0.8410696109512238\n"
     ]
    }
   ],
   "source": [
    "trainingSummary = lrModel.summary\n",
    "roc = trainingSummary.roc.toPandas()\n",
    "plt.plot(roc['FPR'], roc['TPR'])\n",
    "plt.ylabel('False Positive Rate')\n",
    "plt.xlabel('True Positive Rate')\n",
    "plt.title('ROC Curve')\n",
    "plt.show()\n",
    "\n",
    "print('Training set areaUnderROC {}'.format(trainingSummary.areaUnderROC))"
   ]
  },
  {
   "cell_type": "code",
   "execution_count": 77,
   "metadata": {},
   "outputs": [
    {
     "data": {
      "image/png": "[encoded data removed]",
      "text/plain": [
       "<Figure size 432x288 with 1 Axes>"
      ]
     },
     "metadata": {
      "needs_background": "light"
     },
     "output_type": "display_data"
    }
   ],
   "source": [
    "pr = trainingSummary.pr.toPandas()\n",
    "plt.plot(pr['recall'], pr['precision'])\n",
    "plt.ylabel('Precision')\n",
    "plt.xlabel('Recall')\n",
    "plt.show()"
   ]
  },
  {
   "cell_type": "code",
   "execution_count": 84,
   "metadata": {},
   "outputs": [
    {
     "name": "stdout",
     "output_type": "stream",
     "text": [
      "+------------+-----+------+--------------------+----------+-------+--------------------+\n",
      "|primary_type|month|Night?|       rawPrediction|Prediction|Arrest1|         probability|\n",
      "+------------+-----+------+--------------------+----------+-------+--------------------+\n",
      "|       THEFT|    7|     0|[2.26379354316854...|       0.0|      0|[0.90583371502653...|\n",
      "|       THEFT|    6|     0|[2.26341302617074...|       0.0|      0|[0.90580125229603...|\n",
      "|       THEFT|    2|     0|[2.25458631617842...|       0.0|      0|[0.90504540778828...|\n",
      "|       THEFT|    7|     0|[2.25783118813362...|       0.0|      0|[0.90532390002813...|\n",
      "|       THEFT|    6|     0|[2.26061698314043...|       0.0|      0|[0.90556240811763...|\n",
      "|       THEFT|   10|     0|[2.25671280344530...|       0.0|      0|[0.90522799697657...|\n",
      "|       THEFT|    9|     0|[2.26279654315894...|       0.0|      0|[0.90574863751025...|\n",
      "|       THEFT|   11|     0|[2.26257827791209...|       0.0|      0|[0.90573000298302...|\n",
      "|       THEFT|    4|     0|[2.27293150311072...|       0.0|      0|[0.90661028851224...|\n",
      "|       THEFT|   10|     0|[2.27293150311072...|       0.0|      0|[0.90661028851224...|\n",
      "+------------+-----+------+--------------------+----------+-------+--------------------+\n",
      "only showing top 10 rows\n",
      "\n"
     ]
    }
   ],
   "source": [
    "predictions = lrModel.transform(test)\n",
    "predictions.select('primary_type','month','Night?','rawPrediction','Prediction','Arrest1', 'probability').show(10)"
   ]
  },
  {
   "cell_type": "code",
   "execution_count": 87,
   "metadata": {},
   "outputs": [
    {
     "name": "stdout",
     "output_type": "stream",
     "text": [
      "Test Area Under ROC 0.841043127803535\n"
     ]
    }
   ],
   "source": [
    "from pyspark.ml.evaluation import BinaryClassificationEvaluator\n",
    "\n",
    "evaluator = BinaryClassificationEvaluator(rawPredictionCol=\"rawPrediction\")\n",
    "print('Test Area Under ROC {}'.format(evaluator.evaluate(predictions)))"
   ]
  },
  {
   "cell_type": "code",
   "execution_count": 93,
   "metadata": {},
   "outputs": [
    {
     "name": "stdout",
     "output_type": "stream",
     "text": [
      "+------------+-----+------+-------------------+----------+-------+--------------------+\n",
      "|primary_type|month|Night?|      rawPrediction|Prediction|Arrest1|         probability|\n",
      "+------------+-----+------+-------------------+----------+-------+--------------------+\n",
      "|       THEFT|    7|     0|[946353.0,176830.0]|       0.0|      0|[0.84256350033787...|\n",
      "|       THEFT|    6|     0|[946353.0,176830.0]|       0.0|      0|[0.84256350033787...|\n",
      "|       THEFT|    2|     0|[946353.0,176830.0]|       0.0|      0|[0.84256350033787...|\n",
      "|       THEFT|    7|     0|[946353.0,176830.0]|       0.0|      0|[0.84256350033787...|\n",
      "|       THEFT|    6|     0|[946353.0,176830.0]|       0.0|      0|[0.84256350033787...|\n",
      "|       THEFT|   10|     0|[946353.0,176830.0]|       0.0|      0|[0.84256350033787...|\n",
      "|       THEFT|    9|     0|[946353.0,176830.0]|       0.0|      0|[0.84256350033787...|\n",
      "|       THEFT|   11|     0|[946353.0,176830.0]|       0.0|      0|[0.84256350033787...|\n",
      "|       THEFT|    4|     0|[946353.0,176830.0]|       0.0|      0|[0.84256350033787...|\n",
      "|       THEFT|   10|     0|[946353.0,176830.0]|       0.0|      0|[0.84256350033787...|\n",
      "+------------+-----+------+-------------------+----------+-------+--------------------+\n",
      "only showing top 10 rows\n",
      "\n"
     ]
    }
   ],
   "source": [
    "from pyspark.ml.classification import DecisionTreeClassifier\n",
    "\n",
    "dt = DecisionTreeClassifier(featuresCol = 'features', labelCol = 'label', maxDepth=3)\n",
    "dtModel = dt.fit(train)\n",
    "predictions = dtModel.transform(test)\n",
    "predictions.select('primary_type','month','Night?',\\\n",
    "                   'rawPrediction','Prediction','Arrest1', 'probability').show(10)"
   ]
  },
  {
   "cell_type": "code",
   "execution_count": 94,
   "metadata": {},
   "outputs": [
    {
     "name": "stdout",
     "output_type": "stream",
     "text": [
      "Test Area Under ROC 0.25698903447509486\n"
     ]
    }
   ],
   "source": [
    "evaluator = BinaryClassificationEvaluator(rawPredictionCol=\"rawPrediction\")\n",
    "print('Test Area Under ROC {}'.format(evaluator.evaluate(predictions, {evaluator.metricName: \"areaUnderROC\"})))"
   ]
  },
  {
   "cell_type": "code",
   "execution_count": 95,
   "metadata": {},
   "outputs": [
    {
     "name": "stdout",
     "output_type": "stream",
     "text": [
      "+------------+-----+------+--------------------+----------+-------+--------------------+\n",
      "|primary_type|month|Night?|       rawPrediction|Prediction|Arrest1|         probability|\n",
      "+------------+-----+------+--------------------+----------+-------+--------------------+\n",
      "|       THEFT|    7|     0|[16.9804511273023...|       0.0|      0|[0.84902255636511...|\n",
      "|       THEFT|    6|     0|[16.9804511273023...|       0.0|      0|[0.84902255636511...|\n",
      "|       THEFT|    2|     0|[16.9804511273023...|       0.0|      0|[0.84902255636511...|\n",
      "|       THEFT|    7|     0|[16.9804511273023...|       0.0|      0|[0.84902255636511...|\n",
      "|       THEFT|    6|     0|[16.9804511273023...|       0.0|      0|[0.84902255636511...|\n",
      "|       THEFT|   10|     0|[16.9804511273023...|       0.0|      0|[0.84902255636511...|\n",
      "|       THEFT|    9|     0|[16.9804511273023...|       0.0|      0|[0.84902255636511...|\n",
      "|       THEFT|   11|     0|[16.9804511273023...|       0.0|      0|[0.84902255636511...|\n",
      "|       THEFT|    4|     0|[16.9804511273023...|       0.0|      0|[0.84902255636511...|\n",
      "|       THEFT|   10|     0|[16.9804511273023...|       0.0|      0|[0.84902255636511...|\n",
      "+------------+-----+------+--------------------+----------+-------+--------------------+\n",
      "only showing top 10 rows\n",
      "\n"
     ]
    }
   ],
   "source": [
    "from pyspark.ml.classification import RandomForestClassifier\n",
    "\n",
    "rf = RandomForestClassifier(featuresCol = 'features', labelCol = 'label')\n",
    "rfModel = rf.fit(train)\n",
    "predictions = rfModel.transform(test)\n",
    "predictions.select('primary_type','month','Night?',\\\n",
    "                   'rawPrediction','Prediction','Arrest1', 'probability').show(10)"
   ]
  },
  {
   "cell_type": "code",
   "execution_count": 96,
   "metadata": {},
   "outputs": [
    {
     "name": "stdout",
     "output_type": "stream",
     "text": [
      "Test Area Under ROC 0.8253596781777944\n"
     ]
    }
   ],
   "source": [
    "evaluator = BinaryClassificationEvaluator(rawPredictionCol=\"rawPrediction\")\n",
    "print('Test Area Under ROC {}'.format(evaluator.evaluate(predictions, {evaluator.metricName: \"areaUnderROC\"})))"
   ]
  },
  {
   "cell_type": "code",
   "execution_count": 98,
   "metadata": {},
   "outputs": [
    {
     "name": "stdout",
     "output_type": "stream",
     "text": [
      "+------------+-----+------+--------------------+----------+-------+--------------------+\n",
      "|primary_type|month|Night?|       rawPrediction|Prediction|Arrest1|         probability|\n",
      "+------------+-----+------+--------------------+----------+-------+--------------------+\n",
      "|       THEFT|    7|     0|[0.89685435038625...|       0.0|      0|[0.85738137243753...|\n",
      "|       THEFT|    6|     0|[0.89685435038625...|       0.0|      0|[0.85738137243753...|\n",
      "|       THEFT|    2|     0|[0.89685435038625...|       0.0|      0|[0.85738137243753...|\n",
      "|       THEFT|    7|     0|[0.89685435038625...|       0.0|      0|[0.85738137243753...|\n",
      "|       THEFT|    6|     0|[0.89685435038625...|       0.0|      0|[0.85738137243753...|\n",
      "|       THEFT|   10|     0|[0.89685435038625...|       0.0|      0|[0.85738137243753...|\n",
      "|       THEFT|    9|     0|[0.89685435038625...|       0.0|      0|[0.85738137243753...|\n",
      "|       THEFT|   11|     0|[0.89685435038625...|       0.0|      0|[0.85738137243753...|\n",
      "|       THEFT|    4|     0|[0.89685435038625...|       0.0|      0|[0.85738137243753...|\n",
      "|       THEFT|   10|     0|[0.89685435038625...|       0.0|      0|[0.85738137243753...|\n",
      "+------------+-----+------+--------------------+----------+-------+--------------------+\n",
      "only showing top 10 rows\n",
      "\n"
     ]
    }
   ],
   "source": [
    "from pyspark.ml.classification import GBTClassifier\n",
    "\n",
    "gbt = GBTClassifier(maxIter=10)\n",
    "gbtModel = gbt.fit(train)\n",
    "predictions = gbtModel.transform(test)\n",
    "predictions.select('primary_type','month','Night?',\\\n",
    "                   'rawPrediction','Prediction','Arrest1', 'probability').show(10)"
   ]
  },
  {
   "cell_type": "code",
   "execution_count": 99,
   "metadata": {},
   "outputs": [
    {
     "name": "stdout",
     "output_type": "stream",
     "text": [
      "Test Area Under ROC 0.8489653698233357\n"
     ]
    }
   ],
   "source": [
    "evaluator = BinaryClassificationEvaluator(rawPredictionCol=\"rawPrediction\")\n",
    "print('Test Area Under ROC {}'.format(evaluator.evaluate(predictions, {evaluator.metricName: \"areaUnderROC\"})))"
   ]
  },
  {
   "cell_type": "code",
   "execution_count": null,
   "metadata": {},
   "outputs": [],
   "source": []
  }
 ],
 "metadata": {
  "kernelspec": {
   "display_name": "Python 3",
   "language": "python",
   "name": "python3"
  },
  "language_info": {
   "codemirror_mode": {
    "name": "ipython",
    "version": 3
   },
   "file_extension": ".py",
   "mimetype": "text/x-python",
   "name": "python",
   "nbconvert_exporter": "python",
   "pygments_lexer": "ipython3",
   "version": "3.7.1"
  }
 },
 "nbformat": 4,
 "nbformat_minor": 2
}
