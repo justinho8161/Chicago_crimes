{
 "cells": [
  {
   "cell_type": "code",
   "execution_count": 1,
   "metadata": {},
   "outputs": [],
   "source": [
    "import pyspark as ps\n",
    "from pyspark.sql import SQLContext\n",
    "from pyspark.sql.functions import col\n",
    "from pyspark.ml import Pipeline\n",
    "from pyspark.ml.classification import LogisticRegression\n",
    "from pyspark.ml.feature import CountVectorizer, Tokenizer\n",
    "from sklearn.linear_model import LinearRegression\n",
    "from sklearn.model_selection import train_test_split, GridSearchCV\n",
    "from sklearn.metrics import mean_squared_log_error\n",
    "from sklearn.linear_model import SGDRegressor\n",
    "from sklearn.pipeline import Pipeline\n",
    "from sklearn.feature_extraction.text import TfidfVectorizer\n",
    "from sklearn.model_selection import cross_val_score\n",
    "import time\n",
    "\n",
    "spark = (\n",
    "        ps.sql.SparkSession.builder \n",
    "        .master(\"justin\") \n",
    "        .appName(\"chicago\") \n",
    "        .getOrCreate()\n",
    "        )\n",
    "\n",
    "sc = spark.sparkContext\n",
    "\n",
    "# random.seed(1)\n",
    "\n",
    "# def sample(p):\n",
    "#     x, y = random.random(), random.random()\n",
    "#     return 1 if x*x + y*y < 1 else 0\n",
    "\n",
    "# count = spark.sparkContext.parallelize(range(0, 10000000)).map(sample) \\\n",
    "#              .reduce(lambda a, b: a + b)\n",
    "\n",
    "# print(\"Pi is (very) roughly {}\".format(4.0 * count / 10000000))"
   ]
  },
  {
   "cell_type": "code",
   "execution_count": 5,
   "metadata": {},
   "outputs": [],
   "source": [
    "import pandas as pd\n",
    "import pymysql\n"
   ]
  },
  {
   "cell_type": "code",
   "execution_count": 3,
   "metadata": {},
   "outputs": [],
   "source": [
    "df_sp = spark.read.csv('/home/justin/Downloads/bq-results-20190515-182310-9jmw514pxnfg.csv', header='true',\n",
    "                       inferSchema='true')"
   ]
  },
  {
   "cell_type": "code",
   "execution_count": 4,
   "metadata": {},
   "outputs": [],
   "source": [
    "df_pd = df_sp.select('unique_key','arrest','block','community_area','district','latitude','longitude').toPandas()"
   ]
  },
  {
   "cell_type": "code",
   "execution_count": 5,
   "metadata": {
    "scrolled": true
   },
   "outputs": [],
   "source": [
    "train = df_pd[df_pd.longitude.isnull()==False]\n",
    "test = df_pd[df_pd.longitude.isnull()==True]"
   ]
  },
  {
   "cell_type": "code",
   "execution_count": 6,
   "metadata": {},
   "outputs": [],
   "source": [
    "X_train = train[train.columns.difference(['arrest','longitude'])].block.values\n",
    "y_train = train['longitude']"
   ]
  },
  {
   "cell_type": "code",
   "execution_count": 7,
   "metadata": {},
   "outputs": [],
   "source": [
    "vect = TfidfVectorizer()\n",
    "X_train_vect=vect.fit_transform(X_train)"
   ]
  },
  {
   "cell_type": "code",
   "execution_count": 8,
   "metadata": {
    "scrolled": true
   },
   "outputs": [
    {
     "name": "stdout",
     "output_type": "stream",
     "text": [
      "Fitting 5 folds for each of 9 candidates, totalling 45 fits\n",
      "[CV] alpha=0.0005, penalty=none ......................................\n"
     ]
    },
    {
     "name": "stderr",
     "output_type": "stream",
     "text": [
      "[Parallel(n_jobs=1)]: Using backend SequentialBackend with 1 concurrent workers.\n",
      "/home/justin/anaconda3/lib/python3.7/site-packages/sklearn/linear_model/stochastic_gradient.py:183: FutureWarning: max_iter and tol parameters have been added in SGDRegressor in 0.19. If max_iter is set but tol is left unset, the default value for tol in 0.19 and 0.20 will be None (which is equivalent to -infinity, so it has no effect) but will change in 0.21 to 1e-3. Specify tol to silence this warning.\n",
      "  FutureWarning)\n"
     ]
    },
    {
     "name": "stdout",
     "output_type": "stream",
     "text": [
      "[CV]  alpha=0.0005, penalty=none, score=-32.167207809182436, total=   2.8s\n",
      "[CV] alpha=0.0005, penalty=none ......................................\n"
     ]
    },
    {
     "name": "stderr",
     "output_type": "stream",
     "text": [
      "[Parallel(n_jobs=1)]: Done   1 out of   1 | elapsed:    2.8s remaining:    0.0s\n",
      "/home/justin/anaconda3/lib/python3.7/site-packages/sklearn/linear_model/stochastic_gradient.py:183: FutureWarning: max_iter and tol parameters have been added in SGDRegressor in 0.19. If max_iter is set but tol is left unset, the default value for tol in 0.19 and 0.20 will be None (which is equivalent to -infinity, so it has no effect) but will change in 0.21 to 1e-3. Specify tol to silence this warning.\n",
      "  FutureWarning)\n"
     ]
    },
    {
     "name": "stdout",
     "output_type": "stream",
     "text": [
      "[CV]  alpha=0.0005, penalty=none, score=-13.481711735477946, total=   2.4s\n",
      "[CV] alpha=0.0005, penalty=none ......................................\n"
     ]
    },
    {
     "name": "stderr",
     "output_type": "stream",
     "text": [
      "[Parallel(n_jobs=1)]: Done   2 out of   2 | elapsed:    5.3s remaining:    0.0s\n",
      "/home/justin/anaconda3/lib/python3.7/site-packages/sklearn/linear_model/stochastic_gradient.py:183: FutureWarning: max_iter and tol parameters have been added in SGDRegressor in 0.19. If max_iter is set but tol is left unset, the default value for tol in 0.19 and 0.20 will be None (which is equivalent to -infinity, so it has no effect) but will change in 0.21 to 1e-3. Specify tol to silence this warning.\n",
      "  FutureWarning)\n"
     ]
    },
    {
     "name": "stdout",
     "output_type": "stream",
     "text": [
      "[CV]  alpha=0.0005, penalty=none, score=-10.101654106961654, total=   2.4s\n",
      "[CV] alpha=0.0005, penalty=none ......................................\n"
     ]
    },
    {
     "name": "stderr",
     "output_type": "stream",
     "text": [
      "/home/justin/anaconda3/lib/python3.7/site-packages/sklearn/linear_model/stochastic_gradient.py:183: FutureWarning: max_iter and tol parameters have been added in SGDRegressor in 0.19. If max_iter is set but tol is left unset, the default value for tol in 0.19 and 0.20 will be None (which is equivalent to -infinity, so it has no effect) but will change in 0.21 to 1e-3. Specify tol to silence this warning.\n",
      "  FutureWarning)\n"
     ]
    },
    {
     "name": "stdout",
     "output_type": "stream",
     "text": [
      "[CV]  alpha=0.0005, penalty=none, score=-8.201825123968378, total=   2.5s\n",
      "[CV] alpha=0.0005, penalty=none ......................................\n"
     ]
    },
    {
     "name": "stderr",
     "output_type": "stream",
     "text": [
      "/home/justin/anaconda3/lib/python3.7/site-packages/sklearn/linear_model/stochastic_gradient.py:183: FutureWarning: max_iter and tol parameters have been added in SGDRegressor in 0.19. If max_iter is set but tol is left unset, the default value for tol in 0.19 and 0.20 will be None (which is equivalent to -infinity, so it has no effect) but will change in 0.21 to 1e-3. Specify tol to silence this warning.\n",
      "  FutureWarning)\n"
     ]
    },
    {
     "name": "stdout",
     "output_type": "stream",
     "text": [
      "[CV]  alpha=0.0005, penalty=none, score=-10.27146933032898, total=   2.5s\n",
      "[CV] alpha=0.0005, penalty=l2 ........................................\n"
     ]
    },
    {
     "name": "stderr",
     "output_type": "stream",
     "text": [
      "/home/justin/anaconda3/lib/python3.7/site-packages/sklearn/linear_model/stochastic_gradient.py:183: FutureWarning: max_iter and tol parameters have been added in SGDRegressor in 0.19. If max_iter is set but tol is left unset, the default value for tol in 0.19 and 0.20 will be None (which is equivalent to -infinity, so it has no effect) but will change in 0.21 to 1e-3. Specify tol to silence this warning.\n",
      "  FutureWarning)\n"
     ]
    },
    {
     "name": "stdout",
     "output_type": "stream",
     "text": [
      "[CV]  alpha=0.0005, penalty=l2, score=-23.11658016309282, total=   2.5s\n",
      "[CV] alpha=0.0005, penalty=l2 ........................................\n"
     ]
    },
    {
     "name": "stderr",
     "output_type": "stream",
     "text": [
      "/home/justin/anaconda3/lib/python3.7/site-packages/sklearn/linear_model/stochastic_gradient.py:183: FutureWarning: max_iter and tol parameters have been added in SGDRegressor in 0.19. If max_iter is set but tol is left unset, the default value for tol in 0.19 and 0.20 will be None (which is equivalent to -infinity, so it has no effect) but will change in 0.21 to 1e-3. Specify tol to silence this warning.\n",
      "  FutureWarning)\n"
     ]
    },
    {
     "name": "stdout",
     "output_type": "stream",
     "text": [
      "[CV]  alpha=0.0005, penalty=l2, score=-9.543591191543264, total=   2.5s\n",
      "[CV] alpha=0.0005, penalty=l2 ........................................\n"
     ]
    },
    {
     "name": "stderr",
     "output_type": "stream",
     "text": [
      "/home/justin/anaconda3/lib/python3.7/site-packages/sklearn/linear_model/stochastic_gradient.py:183: FutureWarning: max_iter and tol parameters have been added in SGDRegressor in 0.19. If max_iter is set but tol is left unset, the default value for tol in 0.19 and 0.20 will be None (which is equivalent to -infinity, so it has no effect) but will change in 0.21 to 1e-3. Specify tol to silence this warning.\n",
      "  FutureWarning)\n"
     ]
    },
    {
     "name": "stdout",
     "output_type": "stream",
     "text": [
      "[CV]  alpha=0.0005, penalty=l2, score=-6.7123857606828965, total=   2.7s\n",
      "[CV] alpha=0.0005, penalty=l2 ........................................\n"
     ]
    },
    {
     "name": "stderr",
     "output_type": "stream",
     "text": [
      "/home/justin/anaconda3/lib/python3.7/site-packages/sklearn/linear_model/stochastic_gradient.py:183: FutureWarning: max_iter and tol parameters have been added in SGDRegressor in 0.19. If max_iter is set but tol is left unset, the default value for tol in 0.19 and 0.20 will be None (which is equivalent to -infinity, so it has no effect) but will change in 0.21 to 1e-3. Specify tol to silence this warning.\n",
      "  FutureWarning)\n"
     ]
    },
    {
     "name": "stdout",
     "output_type": "stream",
     "text": [
      "[CV]  alpha=0.0005, penalty=l2, score=-5.3860234074856805, total=   2.5s\n",
      "[CV] alpha=0.0005, penalty=l2 ........................................\n"
     ]
    },
    {
     "name": "stderr",
     "output_type": "stream",
     "text": [
      "/home/justin/anaconda3/lib/python3.7/site-packages/sklearn/linear_model/stochastic_gradient.py:183: FutureWarning: max_iter and tol parameters have been added in SGDRegressor in 0.19. If max_iter is set but tol is left unset, the default value for tol in 0.19 and 0.20 will be None (which is equivalent to -infinity, so it has no effect) but will change in 0.21 to 1e-3. Specify tol to silence this warning.\n",
      "  FutureWarning)\n"
     ]
    },
    {
     "name": "stdout",
     "output_type": "stream",
     "text": [
      "[CV]  alpha=0.0005, penalty=l2, score=-7.903991224251152, total=   2.4s\n",
      "[CV] alpha=0.0005, penalty=l1 ........................................\n"
     ]
    },
    {
     "name": "stderr",
     "output_type": "stream",
     "text": [
      "/home/justin/anaconda3/lib/python3.7/site-packages/sklearn/linear_model/stochastic_gradient.py:183: FutureWarning: max_iter and tol parameters have been added in SGDRegressor in 0.19. If max_iter is set but tol is left unset, the default value for tol in 0.19 and 0.20 will be None (which is equivalent to -infinity, so it has no effect) but will change in 0.21 to 1e-3. Specify tol to silence this warning.\n",
      "  FutureWarning)\n"
     ]
    },
    {
     "name": "stdout",
     "output_type": "stream",
     "text": [
      "[CV]  alpha=0.0005, penalty=l1, score=-33.71867745398241, total=   2.5s\n",
      "[CV] alpha=0.0005, penalty=l1 ........................................\n"
     ]
    },
    {
     "name": "stderr",
     "output_type": "stream",
     "text": [
      "/home/justin/anaconda3/lib/python3.7/site-packages/sklearn/linear_model/stochastic_gradient.py:183: FutureWarning: max_iter and tol parameters have been added in SGDRegressor in 0.19. If max_iter is set but tol is left unset, the default value for tol in 0.19 and 0.20 will be None (which is equivalent to -infinity, so it has no effect) but will change in 0.21 to 1e-3. Specify tol to silence this warning.\n",
      "  FutureWarning)\n"
     ]
    },
    {
     "name": "stdout",
     "output_type": "stream",
     "text": [
      "[CV]  alpha=0.0005, penalty=l1, score=-14.344072842104014, total=   2.6s\n",
      "[CV] alpha=0.0005, penalty=l1 ........................................\n"
     ]
    },
    {
     "name": "stderr",
     "output_type": "stream",
     "text": [
      "/home/justin/anaconda3/lib/python3.7/site-packages/sklearn/linear_model/stochastic_gradient.py:183: FutureWarning: max_iter and tol parameters have been added in SGDRegressor in 0.19. If max_iter is set but tol is left unset, the default value for tol in 0.19 and 0.20 will be None (which is equivalent to -infinity, so it has no effect) but will change in 0.21 to 1e-3. Specify tol to silence this warning.\n",
      "  FutureWarning)\n"
     ]
    },
    {
     "name": "stdout",
     "output_type": "stream",
     "text": [
      "[CV]  alpha=0.0005, penalty=l1, score=-10.705373032447117, total=   2.6s\n",
      "[CV] alpha=0.0005, penalty=l1 ........................................\n"
     ]
    },
    {
     "name": "stderr",
     "output_type": "stream",
     "text": [
      "/home/justin/anaconda3/lib/python3.7/site-packages/sklearn/linear_model/stochastic_gradient.py:183: FutureWarning: max_iter and tol parameters have been added in SGDRegressor in 0.19. If max_iter is set but tol is left unset, the default value for tol in 0.19 and 0.20 will be None (which is equivalent to -infinity, so it has no effect) but will change in 0.21 to 1e-3. Specify tol to silence this warning.\n",
      "  FutureWarning)\n"
     ]
    },
    {
     "name": "stdout",
     "output_type": "stream",
     "text": [
      "[CV]  alpha=0.0005, penalty=l1, score=-8.60032156005457, total=   2.6s\n",
      "[CV] alpha=0.0005, penalty=l1 ........................................\n"
     ]
    },
    {
     "name": "stderr",
     "output_type": "stream",
     "text": [
      "/home/justin/anaconda3/lib/python3.7/site-packages/sklearn/linear_model/stochastic_gradient.py:183: FutureWarning: max_iter and tol parameters have been added in SGDRegressor in 0.19. If max_iter is set but tol is left unset, the default value for tol in 0.19 and 0.20 will be None (which is equivalent to -infinity, so it has no effect) but will change in 0.21 to 1e-3. Specify tol to silence this warning.\n",
      "  FutureWarning)\n"
     ]
    },
    {
     "name": "stdout",
     "output_type": "stream",
     "text": [
      "[CV]  alpha=0.0005, penalty=l1, score=-10.661111918890528, total=   2.6s\n",
      "[CV] alpha=0.05, penalty=none ........................................\n"
     ]
    },
    {
     "name": "stderr",
     "output_type": "stream",
     "text": [
      "/home/justin/anaconda3/lib/python3.7/site-packages/sklearn/linear_model/stochastic_gradient.py:183: FutureWarning: max_iter and tol parameters have been added in SGDRegressor in 0.19. If max_iter is set but tol is left unset, the default value for tol in 0.19 and 0.20 will be None (which is equivalent to -infinity, so it has no effect) but will change in 0.21 to 1e-3. Specify tol to silence this warning.\n",
      "  FutureWarning)\n"
     ]
    },
    {
     "name": "stdout",
     "output_type": "stream",
     "text": [
      "[CV]  alpha=0.05, penalty=none, score=-32.167207809182436, total=   2.4s\n",
      "[CV] alpha=0.05, penalty=none ........................................\n"
     ]
    },
    {
     "name": "stderr",
     "output_type": "stream",
     "text": [
      "/home/justin/anaconda3/lib/python3.7/site-packages/sklearn/linear_model/stochastic_gradient.py:183: FutureWarning: max_iter and tol parameters have been added in SGDRegressor in 0.19. If max_iter is set but tol is left unset, the default value for tol in 0.19 and 0.20 will be None (which is equivalent to -infinity, so it has no effect) but will change in 0.21 to 1e-3. Specify tol to silence this warning.\n",
      "  FutureWarning)\n"
     ]
    },
    {
     "name": "stdout",
     "output_type": "stream",
     "text": [
      "[CV]  alpha=0.05, penalty=none, score=-13.481711735477946, total=   2.4s\n",
      "[CV] alpha=0.05, penalty=none ........................................\n"
     ]
    },
    {
     "name": "stderr",
     "output_type": "stream",
     "text": [
      "/home/justin/anaconda3/lib/python3.7/site-packages/sklearn/linear_model/stochastic_gradient.py:183: FutureWarning: max_iter and tol parameters have been added in SGDRegressor in 0.19. If max_iter is set but tol is left unset, the default value for tol in 0.19 and 0.20 will be None (which is equivalent to -infinity, so it has no effect) but will change in 0.21 to 1e-3. Specify tol to silence this warning.\n",
      "  FutureWarning)\n"
     ]
    },
    {
     "name": "stdout",
     "output_type": "stream",
     "text": [
      "[CV]  alpha=0.05, penalty=none, score=-10.101654106961654, total=   2.4s\n",
      "[CV] alpha=0.05, penalty=none ........................................\n"
     ]
    },
    {
     "name": "stderr",
     "output_type": "stream",
     "text": [
      "/home/justin/anaconda3/lib/python3.7/site-packages/sklearn/linear_model/stochastic_gradient.py:183: FutureWarning: max_iter and tol parameters have been added in SGDRegressor in 0.19. If max_iter is set but tol is left unset, the default value for tol in 0.19 and 0.20 will be None (which is equivalent to -infinity, so it has no effect) but will change in 0.21 to 1e-3. Specify tol to silence this warning.\n",
      "  FutureWarning)\n"
     ]
    },
    {
     "name": "stdout",
     "output_type": "stream",
     "text": [
      "[CV]  alpha=0.05, penalty=none, score=-8.201825123968378, total=   2.4s\n",
      "[CV] alpha=0.05, penalty=none ........................................\n"
     ]
    },
    {
     "name": "stderr",
     "output_type": "stream",
     "text": [
      "/home/justin/anaconda3/lib/python3.7/site-packages/sklearn/linear_model/stochastic_gradient.py:183: FutureWarning: max_iter and tol parameters have been added in SGDRegressor in 0.19. If max_iter is set but tol is left unset, the default value for tol in 0.19 and 0.20 will be None (which is equivalent to -infinity, so it has no effect) but will change in 0.21 to 1e-3. Specify tol to silence this warning.\n",
      "  FutureWarning)\n"
     ]
    },
    {
     "name": "stdout",
     "output_type": "stream",
     "text": [
      "[CV]  alpha=0.05, penalty=none, score=-10.27146933032898, total=   2.6s\n",
      "[CV] alpha=0.05, penalty=l2 ..........................................\n"
     ]
    },
    {
     "name": "stderr",
     "output_type": "stream",
     "text": [
      "/home/justin/anaconda3/lib/python3.7/site-packages/sklearn/linear_model/stochastic_gradient.py:183: FutureWarning: max_iter and tol parameters have been added in SGDRegressor in 0.19. If max_iter is set but tol is left unset, the default value for tol in 0.19 and 0.20 will be None (which is equivalent to -infinity, so it has no effect) but will change in 0.21 to 1e-3. Specify tol to silence this warning.\n",
      "  FutureWarning)\n"
     ]
    },
    {
     "name": "stdout",
     "output_type": "stream",
     "text": [
      "[CV]  alpha=0.05, penalty=l2, score=-0.004358911567627504, total=   2.7s\n",
      "[CV] alpha=0.05, penalty=l2 ..........................................\n"
     ]
    },
    {
     "name": "stderr",
     "output_type": "stream",
     "text": [
      "/home/justin/anaconda3/lib/python3.7/site-packages/sklearn/linear_model/stochastic_gradient.py:183: FutureWarning: max_iter and tol parameters have been added in SGDRegressor in 0.19. If max_iter is set but tol is left unset, the default value for tol in 0.19 and 0.20 will be None (which is equivalent to -infinity, so it has no effect) but will change in 0.21 to 1e-3. Specify tol to silence this warning.\n",
      "  FutureWarning)\n"
     ]
    },
    {
     "name": "stdout",
     "output_type": "stream",
     "text": [
      "[CV]  alpha=0.05, penalty=l2, score=-0.004642637044258677, total=   2.8s\n",
      "[CV] alpha=0.05, penalty=l2 ..........................................\n"
     ]
    },
    {
     "name": "stderr",
     "output_type": "stream",
     "text": [
      "/home/justin/anaconda3/lib/python3.7/site-packages/sklearn/linear_model/stochastic_gradient.py:183: FutureWarning: max_iter and tol parameters have been added in SGDRegressor in 0.19. If max_iter is set but tol is left unset, the default value for tol in 0.19 and 0.20 will be None (which is equivalent to -infinity, so it has no effect) but will change in 0.21 to 1e-3. Specify tol to silence this warning.\n",
      "  FutureWarning)\n"
     ]
    },
    {
     "name": "stdout",
     "output_type": "stream",
     "text": [
      "[CV]  alpha=0.05, penalty=l2, score=-0.004106947405036811, total=   2.7s\n",
      "[CV] alpha=0.05, penalty=l2 ..........................................\n"
     ]
    },
    {
     "name": "stderr",
     "output_type": "stream",
     "text": [
      "/home/justin/anaconda3/lib/python3.7/site-packages/sklearn/linear_model/stochastic_gradient.py:183: FutureWarning: max_iter and tol parameters have been added in SGDRegressor in 0.19. If max_iter is set but tol is left unset, the default value for tol in 0.19 and 0.20 will be None (which is equivalent to -infinity, so it has no effect) but will change in 0.21 to 1e-3. Specify tol to silence this warning.\n",
      "  FutureWarning)\n"
     ]
    },
    {
     "name": "stdout",
     "output_type": "stream",
     "text": [
      "[CV]  alpha=0.05, penalty=l2, score=-0.0035433966842109395, total=   2.7s\n",
      "[CV] alpha=0.05, penalty=l2 ..........................................\n"
     ]
    },
    {
     "name": "stderr",
     "output_type": "stream",
     "text": [
      "/home/justin/anaconda3/lib/python3.7/site-packages/sklearn/linear_model/stochastic_gradient.py:183: FutureWarning: max_iter and tol parameters have been added in SGDRegressor in 0.19. If max_iter is set but tol is left unset, the default value for tol in 0.19 and 0.20 will be None (which is equivalent to -infinity, so it has no effect) but will change in 0.21 to 1e-3. Specify tol to silence this warning.\n",
      "  FutureWarning)\n"
     ]
    },
    {
     "name": "stdout",
     "output_type": "stream",
     "text": [
      "[CV]  alpha=0.05, penalty=l2, score=-0.004464780902546208, total=   2.7s\n",
      "[CV] alpha=0.05, penalty=l1 ..........................................\n"
     ]
    },
    {
     "name": "stderr",
     "output_type": "stream",
     "text": [
      "/home/justin/anaconda3/lib/python3.7/site-packages/sklearn/linear_model/stochastic_gradient.py:183: FutureWarning: max_iter and tol parameters have been added in SGDRegressor in 0.19. If max_iter is set but tol is left unset, the default value for tol in 0.19 and 0.20 will be None (which is equivalent to -infinity, so it has no effect) but will change in 0.21 to 1e-3. Specify tol to silence this warning.\n",
      "  FutureWarning)\n"
     ]
    },
    {
     "name": "stdout",
     "output_type": "stream",
     "text": [
      "[CV] .. alpha=0.05, penalty=l1, score=-43.5282992347541, total=   2.7s\n",
      "[CV] alpha=0.05, penalty=l1 ..........................................\n"
     ]
    },
    {
     "name": "stderr",
     "output_type": "stream",
     "text": [
      "/home/justin/anaconda3/lib/python3.7/site-packages/sklearn/linear_model/stochastic_gradient.py:183: FutureWarning: max_iter and tol parameters have been added in SGDRegressor in 0.19. If max_iter is set but tol is left unset, the default value for tol in 0.19 and 0.20 will be None (which is equivalent to -infinity, so it has no effect) but will change in 0.21 to 1e-3. Specify tol to silence this warning.\n",
      "  FutureWarning)\n"
     ]
    },
    {
     "name": "stdout",
     "output_type": "stream",
     "text": [
      "[CV] . alpha=0.05, penalty=l1, score=-22.43183357697792, total=   2.7s\n",
      "[CV] alpha=0.05, penalty=l1 ..........................................\n"
     ]
    },
    {
     "name": "stderr",
     "output_type": "stream",
     "text": [
      "/home/justin/anaconda3/lib/python3.7/site-packages/sklearn/linear_model/stochastic_gradient.py:183: FutureWarning: max_iter and tol parameters have been added in SGDRegressor in 0.19. If max_iter is set but tol is left unset, the default value for tol in 0.19 and 0.20 will be None (which is equivalent to -infinity, so it has no effect) but will change in 0.21 to 1e-3. Specify tol to silence this warning.\n",
      "  FutureWarning)\n"
     ]
    },
    {
     "name": "stdout",
     "output_type": "stream",
     "text": [
      "[CV] .. alpha=0.05, penalty=l1, score=-18.1698851514693, total=   2.7s\n",
      "[CV] alpha=0.05, penalty=l1 ..........................................\n"
     ]
    },
    {
     "name": "stderr",
     "output_type": "stream",
     "text": [
      "/home/justin/anaconda3/lib/python3.7/site-packages/sklearn/linear_model/stochastic_gradient.py:183: FutureWarning: max_iter and tol parameters have been added in SGDRegressor in 0.19. If max_iter is set but tol is left unset, the default value for tol in 0.19 and 0.20 will be None (which is equivalent to -infinity, so it has no effect) but will change in 0.21 to 1e-3. Specify tol to silence this warning.\n",
      "  FutureWarning)\n"
     ]
    },
    {
     "name": "stdout",
     "output_type": "stream",
     "text": [
      "[CV]  alpha=0.05, penalty=l1, score=-13.988038106474546, total=   2.8s\n",
      "[CV] alpha=0.05, penalty=l1 ..........................................\n"
     ]
    },
    {
     "name": "stderr",
     "output_type": "stream",
     "text": [
      "/home/justin/anaconda3/lib/python3.7/site-packages/sklearn/linear_model/stochastic_gradient.py:183: FutureWarning: max_iter and tol parameters have been added in SGDRegressor in 0.19. If max_iter is set but tol is left unset, the default value for tol in 0.19 and 0.20 will be None (which is equivalent to -infinity, so it has no effect) but will change in 0.21 to 1e-3. Specify tol to silence this warning.\n",
      "  FutureWarning)\n"
     ]
    },
    {
     "name": "stdout",
     "output_type": "stream",
     "text": [
      "[CV]  alpha=0.05, penalty=l1, score=-11.776647780220673, total=   2.7s\n",
      "[CV] alpha=0.1, penalty=none .........................................\n"
     ]
    },
    {
     "name": "stderr",
     "output_type": "stream",
     "text": [
      "/home/justin/anaconda3/lib/python3.7/site-packages/sklearn/linear_model/stochastic_gradient.py:183: FutureWarning: max_iter and tol parameters have been added in SGDRegressor in 0.19. If max_iter is set but tol is left unset, the default value for tol in 0.19 and 0.20 will be None (which is equivalent to -infinity, so it has no effect) but will change in 0.21 to 1e-3. Specify tol to silence this warning.\n",
      "  FutureWarning)\n"
     ]
    },
    {
     "name": "stdout",
     "output_type": "stream",
     "text": [
      "[CV]  alpha=0.1, penalty=none, score=-32.167207809182436, total=   2.4s\n",
      "[CV] alpha=0.1, penalty=none .........................................\n"
     ]
    },
    {
     "name": "stderr",
     "output_type": "stream",
     "text": [
      "/home/justin/anaconda3/lib/python3.7/site-packages/sklearn/linear_model/stochastic_gradient.py:183: FutureWarning: max_iter and tol parameters have been added in SGDRegressor in 0.19. If max_iter is set but tol is left unset, the default value for tol in 0.19 and 0.20 will be None (which is equivalent to -infinity, so it has no effect) but will change in 0.21 to 1e-3. Specify tol to silence this warning.\n",
      "  FutureWarning)\n"
     ]
    },
    {
     "name": "stdout",
     "output_type": "stream",
     "text": [
      "[CV]  alpha=0.1, penalty=none, score=-13.481711735477946, total=   2.4s\n",
      "[CV] alpha=0.1, penalty=none .........................................\n"
     ]
    },
    {
     "name": "stderr",
     "output_type": "stream",
     "text": [
      "/home/justin/anaconda3/lib/python3.7/site-packages/sklearn/linear_model/stochastic_gradient.py:183: FutureWarning: max_iter and tol parameters have been added in SGDRegressor in 0.19. If max_iter is set but tol is left unset, the default value for tol in 0.19 and 0.20 will be None (which is equivalent to -infinity, so it has no effect) but will change in 0.21 to 1e-3. Specify tol to silence this warning.\n",
      "  FutureWarning)\n"
     ]
    },
    {
     "name": "stdout",
     "output_type": "stream",
     "text": [
      "[CV]  alpha=0.1, penalty=none, score=-10.101654106961654, total=   2.8s\n",
      "[CV] alpha=0.1, penalty=none .........................................\n"
     ]
    },
    {
     "name": "stderr",
     "output_type": "stream",
     "text": [
      "/home/justin/anaconda3/lib/python3.7/site-packages/sklearn/linear_model/stochastic_gradient.py:183: FutureWarning: max_iter and tol parameters have been added in SGDRegressor in 0.19. If max_iter is set but tol is left unset, the default value for tol in 0.19 and 0.20 will be None (which is equivalent to -infinity, so it has no effect) but will change in 0.21 to 1e-3. Specify tol to silence this warning.\n",
      "  FutureWarning)\n"
     ]
    },
    {
     "name": "stdout",
     "output_type": "stream",
     "text": [
      "[CV]  alpha=0.1, penalty=none, score=-8.201825123968378, total=   2.6s\n",
      "[CV] alpha=0.1, penalty=none .........................................\n"
     ]
    },
    {
     "name": "stderr",
     "output_type": "stream",
     "text": [
      "/home/justin/anaconda3/lib/python3.7/site-packages/sklearn/linear_model/stochastic_gradient.py:183: FutureWarning: max_iter and tol parameters have been added in SGDRegressor in 0.19. If max_iter is set but tol is left unset, the default value for tol in 0.19 and 0.20 will be None (which is equivalent to -infinity, so it has no effect) but will change in 0.21 to 1e-3. Specify tol to silence this warning.\n",
      "  FutureWarning)\n"
     ]
    },
    {
     "name": "stdout",
     "output_type": "stream",
     "text": [
      "[CV]  alpha=0.1, penalty=none, score=-10.27146933032898, total=   2.9s\n",
      "[CV] alpha=0.1, penalty=l2 ...........................................\n"
     ]
    },
    {
     "name": "stderr",
     "output_type": "stream",
     "text": [
      "/home/justin/anaconda3/lib/python3.7/site-packages/sklearn/linear_model/stochastic_gradient.py:183: FutureWarning: max_iter and tol parameters have been added in SGDRegressor in 0.19. If max_iter is set but tol is left unset, the default value for tol in 0.19 and 0.20 will be None (which is equivalent to -infinity, so it has no effect) but will change in 0.21 to 1e-3. Specify tol to silence this warning.\n",
      "  FutureWarning)\n"
     ]
    },
    {
     "name": "stdout",
     "output_type": "stream",
     "text": [
      "[CV]  alpha=0.1, penalty=l2, score=-0.0044514925662275575, total=   2.9s\n",
      "[CV] alpha=0.1, penalty=l2 ...........................................\n"
     ]
    },
    {
     "name": "stderr",
     "output_type": "stream",
     "text": [
      "/home/justin/anaconda3/lib/python3.7/site-packages/sklearn/linear_model/stochastic_gradient.py:183: FutureWarning: max_iter and tol parameters have been added in SGDRegressor in 0.19. If max_iter is set but tol is left unset, the default value for tol in 0.19 and 0.20 will be None (which is equivalent to -infinity, so it has no effect) but will change in 0.21 to 1e-3. Specify tol to silence this warning.\n",
      "  FutureWarning)\n"
     ]
    },
    {
     "name": "stdout",
     "output_type": "stream",
     "text": [
      "[CV]  alpha=0.1, penalty=l2, score=-0.0047616822964582015, total=   2.8s\n",
      "[CV] alpha=0.1, penalty=l2 ...........................................\n"
     ]
    },
    {
     "name": "stderr",
     "output_type": "stream",
     "text": [
      "/home/justin/anaconda3/lib/python3.7/site-packages/sklearn/linear_model/stochastic_gradient.py:183: FutureWarning: max_iter and tol parameters have been added in SGDRegressor in 0.19. If max_iter is set but tol is left unset, the default value for tol in 0.19 and 0.20 will be None (which is equivalent to -infinity, so it has no effect) but will change in 0.21 to 1e-3. Specify tol to silence this warning.\n",
      "  FutureWarning)\n"
     ]
    },
    {
     "name": "stdout",
     "output_type": "stream",
     "text": [
      "[CV]  alpha=0.1, penalty=l2, score=-0.004221581448020065, total=   2.7s\n",
      "[CV] alpha=0.1, penalty=l2 ...........................................\n"
     ]
    },
    {
     "name": "stderr",
     "output_type": "stream",
     "text": [
      "/home/justin/anaconda3/lib/python3.7/site-packages/sklearn/linear_model/stochastic_gradient.py:183: FutureWarning: max_iter and tol parameters have been added in SGDRegressor in 0.19. If max_iter is set but tol is left unset, the default value for tol in 0.19 and 0.20 will be None (which is equivalent to -infinity, so it has no effect) but will change in 0.21 to 1e-3. Specify tol to silence this warning.\n",
      "  FutureWarning)\n"
     ]
    },
    {
     "name": "stdout",
     "output_type": "stream",
     "text": [
      "[CV]  alpha=0.1, penalty=l2, score=-0.0036517433257068324, total=   2.7s\n",
      "[CV] alpha=0.1, penalty=l2 ...........................................\n"
     ]
    },
    {
     "name": "stderr",
     "output_type": "stream",
     "text": [
      "/home/justin/anaconda3/lib/python3.7/site-packages/sklearn/linear_model/stochastic_gradient.py:183: FutureWarning: max_iter and tol parameters have been added in SGDRegressor in 0.19. If max_iter is set but tol is left unset, the default value for tol in 0.19 and 0.20 will be None (which is equivalent to -infinity, so it has no effect) but will change in 0.21 to 1e-3. Specify tol to silence this warning.\n",
      "  FutureWarning)\n"
     ]
    },
    {
     "name": "stdout",
     "output_type": "stream",
     "text": [
      "[CV]  alpha=0.1, penalty=l2, score=-0.004572014222590861, total=   2.7s\n",
      "[CV] alpha=0.1, penalty=l1 ...........................................\n"
     ]
    },
    {
     "name": "stderr",
     "output_type": "stream",
     "text": [
      "/home/justin/anaconda3/lib/python3.7/site-packages/sklearn/linear_model/stochastic_gradient.py:183: FutureWarning: max_iter and tol parameters have been added in SGDRegressor in 0.19. If max_iter is set but tol is left unset, the default value for tol in 0.19 and 0.20 will be None (which is equivalent to -infinity, so it has no effect) but will change in 0.21 to 1e-3. Specify tol to silence this warning.\n",
      "  FutureWarning)\n"
     ]
    },
    {
     "name": "stdout",
     "output_type": "stream",
     "text": [
      "[CV] .. alpha=0.1, penalty=l1, score=-28.42529287455159, total=   2.7s\n",
      "[CV] alpha=0.1, penalty=l1 ...........................................\n"
     ]
    },
    {
     "name": "stderr",
     "output_type": "stream",
     "text": [
      "/home/justin/anaconda3/lib/python3.7/site-packages/sklearn/linear_model/stochastic_gradient.py:183: FutureWarning: max_iter and tol parameters have been added in SGDRegressor in 0.19. If max_iter is set but tol is left unset, the default value for tol in 0.19 and 0.20 will be None (which is equivalent to -infinity, so it has no effect) but will change in 0.21 to 1e-3. Specify tol to silence this warning.\n",
      "  FutureWarning)\n"
     ]
    },
    {
     "name": "stdout",
     "output_type": "stream",
     "text": [
      "[CV] .. alpha=0.1, penalty=l1, score=-17.45309182831349, total=   2.8s\n",
      "[CV] alpha=0.1, penalty=l1 ...........................................\n"
     ]
    },
    {
     "name": "stderr",
     "output_type": "stream",
     "text": [
      "/home/justin/anaconda3/lib/python3.7/site-packages/sklearn/linear_model/stochastic_gradient.py:183: FutureWarning: max_iter and tol parameters have been added in SGDRegressor in 0.19. If max_iter is set but tol is left unset, the default value for tol in 0.19 and 0.20 will be None (which is equivalent to -infinity, so it has no effect) but will change in 0.21 to 1e-3. Specify tol to silence this warning.\n",
      "  FutureWarning)\n"
     ]
    },
    {
     "name": "stdout",
     "output_type": "stream",
     "text": [
      "[CV] . alpha=0.1, penalty=l1, score=-13.701312596611986, total=   3.0s\n",
      "[CV] alpha=0.1, penalty=l1 ...........................................\n"
     ]
    },
    {
     "name": "stderr",
     "output_type": "stream",
     "text": [
      "/home/justin/anaconda3/lib/python3.7/site-packages/sklearn/linear_model/stochastic_gradient.py:183: FutureWarning: max_iter and tol parameters have been added in SGDRegressor in 0.19. If max_iter is set but tol is left unset, the default value for tol in 0.19 and 0.20 will be None (which is equivalent to -infinity, so it has no effect) but will change in 0.21 to 1e-3. Specify tol to silence this warning.\n",
      "  FutureWarning)\n"
     ]
    },
    {
     "name": "stdout",
     "output_type": "stream",
     "text": [
      "[CV] . alpha=0.1, penalty=l1, score=-10.684420271524422, total=   2.9s\n",
      "[CV] alpha=0.1, penalty=l1 ...........................................\n"
     ]
    },
    {
     "name": "stderr",
     "output_type": "stream",
     "text": [
      "/home/justin/anaconda3/lib/python3.7/site-packages/sklearn/linear_model/stochastic_gradient.py:183: FutureWarning: max_iter and tol parameters have been added in SGDRegressor in 0.19. If max_iter is set but tol is left unset, the default value for tol in 0.19 and 0.20 will be None (which is equivalent to -infinity, so it has no effect) but will change in 0.21 to 1e-3. Specify tol to silence this warning.\n",
      "  FutureWarning)\n"
     ]
    },
    {
     "name": "stdout",
     "output_type": "stream",
     "text": [
      "[CV] .. alpha=0.1, penalty=l1, score=-9.833860093453168, total=   2.9s\n"
     ]
    },
    {
     "name": "stderr",
     "output_type": "stream",
     "text": [
      "[Parallel(n_jobs=1)]: Done  45 out of  45 | elapsed:  2.0min finished\n",
      "/home/justin/anaconda3/lib/python3.7/site-packages/sklearn/linear_model/stochastic_gradient.py:183: FutureWarning: max_iter and tol parameters have been added in SGDRegressor in 0.19. If max_iter is set but tol is left unset, the default value for tol in 0.19 and 0.20 will be None (which is equivalent to -infinity, so it has no effect) but will change in 0.21 to 1e-3. Specify tol to silence this warning.\n",
      "  FutureWarning)\n"
     ]
    },
    {
     "name": "stdout",
     "output_type": "stream",
     "text": [
      "Time it took 123.41386270523071\n"
     ]
    }
   ],
   "source": [
    "model = SGDRegressor(loss=\"squared_loss\", penalty='l2', random_state=101, max_iter=5)\n",
    "params= {'penalty':['none','l2','l1'],\n",
    "        'alpha':[5e-4,5e-2, .1]}\n",
    "gs=GridSearchCV(estimator=model,\n",
    "               param_grid=params,\n",
    "               scoring='neg_mean_squared_error',\n",
    "               n_jobs=1,\n",
    "               cv=5,\n",
    "               verbose=3)\n",
    "start=time.time()\n",
    "gs.fit(X_train_vect, y_train)\n",
    "end=time.time()\n",
    "print(\"Time it took {}\".format(end-start))"
   ]
  },
  {
   "cell_type": "code",
   "execution_count": 9,
   "metadata": {},
   "outputs": [],
   "source": [
    "model = gs.best_estimator_\n",
    "pipe = Pipeline([('vect',vect),('model',model)])\n",
    "y_pred = pipe.predict(test.block.values)"
   ]
  },
  {
   "cell_type": "code",
   "execution_count": 12,
   "metadata": {},
   "outputs": [],
   "source": [
    "for idx, val in enumerate(test.index):\n",
    "    df_pd.iloc[val,5] = y_pred[idx] "
   ]
  },
  {
   "cell_type": "code",
   "execution_count": 13,
   "metadata": {
    "scrolled": true
   },
   "outputs": [],
   "source": [
    "train_lat = df_pd[df_pd.latitude.isnull()==False]\n",
    "test_lat = df_pd[df_pd.latitude.isnull()==True]"
   ]
  },
  {
   "cell_type": "code",
   "execution_count": 14,
   "metadata": {},
   "outputs": [],
   "source": [
    "X_train_lat = train_lat[train_lat.columns.difference(['arrest','latitude'])].block.values\n",
    "y_train_lat = train_lat['latitude']"
   ]
  },
  {
   "cell_type": "code",
   "execution_count": 15,
   "metadata": {},
   "outputs": [],
   "source": [
    "vect_lat = TfidfVectorizer()\n",
    "X_train_vect_lat=vect_lat.fit_transform(X_train_lat)"
   ]
  },
  {
   "cell_type": "code",
   "execution_count": 16,
   "metadata": {
    "scrolled": true
   },
   "outputs": [
    {
     "name": "stdout",
     "output_type": "stream",
     "text": [
      "Fitting 5 folds for each of 9 candidates, totalling 45 fits\n",
      "[CV] alpha=0.0005, penalty=none ......................................\n"
     ]
    },
    {
     "name": "stderr",
     "output_type": "stream",
     "text": [
      "[Parallel(n_jobs=1)]: Using backend SequentialBackend with 1 concurrent workers.\n"
     ]
    },
    {
     "name": "stdout",
     "output_type": "stream",
     "text": [
      "[CV]  alpha=0.0005, penalty=none, score=-7.427539414606433, total=   2.5s\n",
      "[CV] alpha=0.0005, penalty=none ......................................\n"
     ]
    },
    {
     "name": "stderr",
     "output_type": "stream",
     "text": [
      "[Parallel(n_jobs=1)]: Done   1 out of   1 | elapsed:    2.6s remaining:    0.0s\n",
      "/home/justin/anaconda3/lib/python3.7/site-packages/sklearn/linear_model/stochastic_gradient.py:183: FutureWarning: max_iter and tol parameters have been added in SGDRegressor in 0.19. If max_iter is set but tol is left unset, the default value for tol in 0.19 and 0.20 will be None (which is equivalent to -infinity, so it has no effect) but will change in 0.21 to 1e-3. Specify tol to silence this warning.\n",
      "  FutureWarning)\n"
     ]
    },
    {
     "name": "stdout",
     "output_type": "stream",
     "text": [
      "[CV]  alpha=0.0005, penalty=none, score=-3.0938211888765483, total=   2.4s\n",
      "[CV] alpha=0.0005, penalty=none ......................................\n"
     ]
    },
    {
     "name": "stderr",
     "output_type": "stream",
     "text": [
      "[Parallel(n_jobs=1)]: Done   2 out of   2 | elapsed:    5.0s remaining:    0.0s\n",
      "/home/justin/anaconda3/lib/python3.7/site-packages/sklearn/linear_model/stochastic_gradient.py:183: FutureWarning: max_iter and tol parameters have been added in SGDRegressor in 0.19. If max_iter is set but tol is left unset, the default value for tol in 0.19 and 0.20 will be None (which is equivalent to -infinity, so it has no effect) but will change in 0.21 to 1e-3. Specify tol to silence this warning.\n",
      "  FutureWarning)\n"
     ]
    },
    {
     "name": "stdout",
     "output_type": "stream",
     "text": [
      "[CV]  alpha=0.0005, penalty=none, score=-2.296869684308005, total=   2.5s\n",
      "[CV] alpha=0.0005, penalty=none ......................................\n"
     ]
    },
    {
     "name": "stderr",
     "output_type": "stream",
     "text": [
      "/home/justin/anaconda3/lib/python3.7/site-packages/sklearn/linear_model/stochastic_gradient.py:183: FutureWarning: max_iter and tol parameters have been added in SGDRegressor in 0.19. If max_iter is set but tol is left unset, the default value for tol in 0.19 and 0.20 will be None (which is equivalent to -infinity, so it has no effect) but will change in 0.21 to 1e-3. Specify tol to silence this warning.\n",
      "  FutureWarning)\n"
     ]
    },
    {
     "name": "stdout",
     "output_type": "stream",
     "text": [
      "[CV]  alpha=0.0005, penalty=none, score=-1.8567781708745184, total=   2.4s\n",
      "[CV] alpha=0.0005, penalty=none ......................................\n"
     ]
    },
    {
     "name": "stderr",
     "output_type": "stream",
     "text": [
      "/home/justin/anaconda3/lib/python3.7/site-packages/sklearn/linear_model/stochastic_gradient.py:183: FutureWarning: max_iter and tol parameters have been added in SGDRegressor in 0.19. If max_iter is set but tol is left unset, the default value for tol in 0.19 and 0.20 will be None (which is equivalent to -infinity, so it has no effect) but will change in 0.21 to 1e-3. Specify tol to silence this warning.\n",
      "  FutureWarning)\n"
     ]
    },
    {
     "name": "stdout",
     "output_type": "stream",
     "text": [
      "[CV]  alpha=0.0005, penalty=none, score=-2.3050106305762306, total=   2.4s\n",
      "[CV] alpha=0.0005, penalty=l2 ........................................\n"
     ]
    },
    {
     "name": "stderr",
     "output_type": "stream",
     "text": [
      "/home/justin/anaconda3/lib/python3.7/site-packages/sklearn/linear_model/stochastic_gradient.py:183: FutureWarning: max_iter and tol parameters have been added in SGDRegressor in 0.19. If max_iter is set but tol is left unset, the default value for tol in 0.19 and 0.20 will be None (which is equivalent to -infinity, so it has no effect) but will change in 0.21 to 1e-3. Specify tol to silence this warning.\n",
      "  FutureWarning)\n"
     ]
    },
    {
     "name": "stdout",
     "output_type": "stream",
     "text": [
      "[CV]  alpha=0.0005, penalty=l2, score=-5.379678529063455, total=   2.5s\n",
      "[CV] alpha=0.0005, penalty=l2 ........................................\n"
     ]
    },
    {
     "name": "stderr",
     "output_type": "stream",
     "text": [
      "/home/justin/anaconda3/lib/python3.7/site-packages/sklearn/linear_model/stochastic_gradient.py:183: FutureWarning: max_iter and tol parameters have been added in SGDRegressor in 0.19. If max_iter is set but tol is left unset, the default value for tol in 0.19 and 0.20 will be None (which is equivalent to -infinity, so it has no effect) but will change in 0.21 to 1e-3. Specify tol to silence this warning.\n",
      "  FutureWarning)\n"
     ]
    },
    {
     "name": "stdout",
     "output_type": "stream",
     "text": [
      "[CV]  alpha=0.0005, penalty=l2, score=-2.207117914995905, total=   2.5s\n",
      "[CV] alpha=0.0005, penalty=l2 ........................................\n"
     ]
    },
    {
     "name": "stderr",
     "output_type": "stream",
     "text": [
      "/home/justin/anaconda3/lib/python3.7/site-packages/sklearn/linear_model/stochastic_gradient.py:183: FutureWarning: max_iter and tol parameters have been added in SGDRegressor in 0.19. If max_iter is set but tol is left unset, the default value for tol in 0.19 and 0.20 will be None (which is equivalent to -infinity, so it has no effect) but will change in 0.21 to 1e-3. Specify tol to silence this warning.\n",
      "  FutureWarning)\n"
     ]
    },
    {
     "name": "stdout",
     "output_type": "stream",
     "text": [
      "[CV]  alpha=0.0005, penalty=l2, score=-1.5186900148816005, total=   2.5s\n",
      "[CV] alpha=0.0005, penalty=l2 ........................................\n"
     ]
    },
    {
     "name": "stderr",
     "output_type": "stream",
     "text": [
      "/home/justin/anaconda3/lib/python3.7/site-packages/sklearn/linear_model/stochastic_gradient.py:183: FutureWarning: max_iter and tol parameters have been added in SGDRegressor in 0.19. If max_iter is set but tol is left unset, the default value for tol in 0.19 and 0.20 will be None (which is equivalent to -infinity, so it has no effect) but will change in 0.21 to 1e-3. Specify tol to silence this warning.\n",
      "  FutureWarning)\n"
     ]
    },
    {
     "name": "stdout",
     "output_type": "stream",
     "text": [
      "[CV]  alpha=0.0005, penalty=l2, score=-1.2066563986259513, total=   2.5s\n",
      "[CV] alpha=0.0005, penalty=l2 ........................................\n"
     ]
    },
    {
     "name": "stderr",
     "output_type": "stream",
     "text": [
      "/home/justin/anaconda3/lib/python3.7/site-packages/sklearn/linear_model/stochastic_gradient.py:183: FutureWarning: max_iter and tol parameters have been added in SGDRegressor in 0.19. If max_iter is set but tol is left unset, the default value for tol in 0.19 and 0.20 will be None (which is equivalent to -infinity, so it has no effect) but will change in 0.21 to 1e-3. Specify tol to silence this warning.\n",
      "  FutureWarning)\n"
     ]
    },
    {
     "name": "stdout",
     "output_type": "stream",
     "text": [
      "[CV]  alpha=0.0005, penalty=l2, score=-1.7417584963399406, total=   2.5s\n",
      "[CV] alpha=0.0005, penalty=l1 ........................................\n"
     ]
    },
    {
     "name": "stderr",
     "output_type": "stream",
     "text": [
      "/home/justin/anaconda3/lib/python3.7/site-packages/sklearn/linear_model/stochastic_gradient.py:183: FutureWarning: max_iter and tol parameters have been added in SGDRegressor in 0.19. If max_iter is set but tol is left unset, the default value for tol in 0.19 and 0.20 will be None (which is equivalent to -infinity, so it has no effect) but will change in 0.21 to 1e-3. Specify tol to silence this warning.\n",
      "  FutureWarning)\n"
     ]
    },
    {
     "name": "stdout",
     "output_type": "stream",
     "text": [
      "[CV]  alpha=0.0005, penalty=l1, score=-8.096118377989951, total=   2.7s\n",
      "[CV] alpha=0.0005, penalty=l1 ........................................\n"
     ]
    },
    {
     "name": "stderr",
     "output_type": "stream",
     "text": [
      "/home/justin/anaconda3/lib/python3.7/site-packages/sklearn/linear_model/stochastic_gradient.py:183: FutureWarning: max_iter and tol parameters have been added in SGDRegressor in 0.19. If max_iter is set but tol is left unset, the default value for tol in 0.19 and 0.20 will be None (which is equivalent to -infinity, so it has no effect) but will change in 0.21 to 1e-3. Specify tol to silence this warning.\n",
      "  FutureWarning)\n"
     ]
    },
    {
     "name": "stdout",
     "output_type": "stream",
     "text": [
      "[CV]  alpha=0.0005, penalty=l1, score=-3.5045117044802336, total=   2.6s\n",
      "[CV] alpha=0.0005, penalty=l1 ........................................\n"
     ]
    },
    {
     "name": "stderr",
     "output_type": "stream",
     "text": [
      "/home/justin/anaconda3/lib/python3.7/site-packages/sklearn/linear_model/stochastic_gradient.py:183: FutureWarning: max_iter and tol parameters have been added in SGDRegressor in 0.19. If max_iter is set but tol is left unset, the default value for tol in 0.19 and 0.20 will be None (which is equivalent to -infinity, so it has no effect) but will change in 0.21 to 1e-3. Specify tol to silence this warning.\n",
      "  FutureWarning)\n"
     ]
    },
    {
     "name": "stdout",
     "output_type": "stream",
     "text": [
      "[CV]  alpha=0.0005, penalty=l1, score=-2.590019274784618, total=   2.6s\n",
      "[CV] alpha=0.0005, penalty=l1 ........................................\n"
     ]
    },
    {
     "name": "stderr",
     "output_type": "stream",
     "text": [
      "/home/justin/anaconda3/lib/python3.7/site-packages/sklearn/linear_model/stochastic_gradient.py:183: FutureWarning: max_iter and tol parameters have been added in SGDRegressor in 0.19. If max_iter is set but tol is left unset, the default value for tol in 0.19 and 0.20 will be None (which is equivalent to -infinity, so it has no effect) but will change in 0.21 to 1e-3. Specify tol to silence this warning.\n",
      "  FutureWarning)\n"
     ]
    },
    {
     "name": "stdout",
     "output_type": "stream",
     "text": [
      "[CV]  alpha=0.0005, penalty=l1, score=-2.05828144672879, total=   2.6s\n",
      "[CV] alpha=0.0005, penalty=l1 ........................................\n"
     ]
    },
    {
     "name": "stderr",
     "output_type": "stream",
     "text": [
      "/home/justin/anaconda3/lib/python3.7/site-packages/sklearn/linear_model/stochastic_gradient.py:183: FutureWarning: max_iter and tol parameters have been added in SGDRegressor in 0.19. If max_iter is set but tol is left unset, the default value for tol in 0.19 and 0.20 will be None (which is equivalent to -infinity, so it has no effect) but will change in 0.21 to 1e-3. Specify tol to silence this warning.\n",
      "  FutureWarning)\n"
     ]
    },
    {
     "name": "stdout",
     "output_type": "stream",
     "text": [
      "[CV]  alpha=0.0005, penalty=l1, score=-2.4906577473131786, total=   2.6s\n",
      "[CV] alpha=0.05, penalty=none ........................................\n"
     ]
    },
    {
     "name": "stderr",
     "output_type": "stream",
     "text": [
      "/home/justin/anaconda3/lib/python3.7/site-packages/sklearn/linear_model/stochastic_gradient.py:183: FutureWarning: max_iter and tol parameters have been added in SGDRegressor in 0.19. If max_iter is set but tol is left unset, the default value for tol in 0.19 and 0.20 will be None (which is equivalent to -infinity, so it has no effect) but will change in 0.21 to 1e-3. Specify tol to silence this warning.\n",
      "  FutureWarning)\n"
     ]
    },
    {
     "name": "stdout",
     "output_type": "stream",
     "text": [
      "[CV]  alpha=0.05, penalty=none, score=-7.427539414606433, total=   2.4s\n",
      "[CV] alpha=0.05, penalty=none ........................................\n"
     ]
    },
    {
     "name": "stderr",
     "output_type": "stream",
     "text": [
      "/home/justin/anaconda3/lib/python3.7/site-packages/sklearn/linear_model/stochastic_gradient.py:183: FutureWarning: max_iter and tol parameters have been added in SGDRegressor in 0.19. If max_iter is set but tol is left unset, the default value for tol in 0.19 and 0.20 will be None (which is equivalent to -infinity, so it has no effect) but will change in 0.21 to 1e-3. Specify tol to silence this warning.\n",
      "  FutureWarning)\n"
     ]
    },
    {
     "name": "stdout",
     "output_type": "stream",
     "text": [
      "[CV]  alpha=0.05, penalty=none, score=-3.0938211888765483, total=   2.5s\n",
      "[CV] alpha=0.05, penalty=none ........................................\n"
     ]
    },
    {
     "name": "stderr",
     "output_type": "stream",
     "text": [
      "/home/justin/anaconda3/lib/python3.7/site-packages/sklearn/linear_model/stochastic_gradient.py:183: FutureWarning: max_iter and tol parameters have been added in SGDRegressor in 0.19. If max_iter is set but tol is left unset, the default value for tol in 0.19 and 0.20 will be None (which is equivalent to -infinity, so it has no effect) but will change in 0.21 to 1e-3. Specify tol to silence this warning.\n",
      "  FutureWarning)\n"
     ]
    },
    {
     "name": "stdout",
     "output_type": "stream",
     "text": [
      "[CV]  alpha=0.05, penalty=none, score=-2.296869684308005, total=   2.5s\n",
      "[CV] alpha=0.05, penalty=none ........................................\n"
     ]
    },
    {
     "name": "stderr",
     "output_type": "stream",
     "text": [
      "/home/justin/anaconda3/lib/python3.7/site-packages/sklearn/linear_model/stochastic_gradient.py:183: FutureWarning: max_iter and tol parameters have been added in SGDRegressor in 0.19. If max_iter is set but tol is left unset, the default value for tol in 0.19 and 0.20 will be None (which is equivalent to -infinity, so it has no effect) but will change in 0.21 to 1e-3. Specify tol to silence this warning.\n",
      "  FutureWarning)\n"
     ]
    },
    {
     "name": "stdout",
     "output_type": "stream",
     "text": [
      "[CV]  alpha=0.05, penalty=none, score=-1.8567781708745184, total=   2.5s\n",
      "[CV] alpha=0.05, penalty=none ........................................\n"
     ]
    },
    {
     "name": "stderr",
     "output_type": "stream",
     "text": [
      "/home/justin/anaconda3/lib/python3.7/site-packages/sklearn/linear_model/stochastic_gradient.py:183: FutureWarning: max_iter and tol parameters have been added in SGDRegressor in 0.19. If max_iter is set but tol is left unset, the default value for tol in 0.19 and 0.20 will be None (which is equivalent to -infinity, so it has no effect) but will change in 0.21 to 1e-3. Specify tol to silence this warning.\n",
      "  FutureWarning)\n"
     ]
    },
    {
     "name": "stdout",
     "output_type": "stream",
     "text": [
      "[CV]  alpha=0.05, penalty=none, score=-2.3050106305762306, total=   2.5s\n",
      "[CV] alpha=0.05, penalty=l2 ..........................................\n"
     ]
    },
    {
     "name": "stderr",
     "output_type": "stream",
     "text": [
      "/home/justin/anaconda3/lib/python3.7/site-packages/sklearn/linear_model/stochastic_gradient.py:183: FutureWarning: max_iter and tol parameters have been added in SGDRegressor in 0.19. If max_iter is set but tol is left unset, the default value for tol in 0.19 and 0.20 will be None (which is equivalent to -infinity, so it has no effect) but will change in 0.21 to 1e-3. Specify tol to silence this warning.\n",
      "  FutureWarning)\n"
     ]
    },
    {
     "name": "stdout",
     "output_type": "stream",
     "text": [
      "[CV]  alpha=0.05, penalty=l2, score=-0.015211161664245734, total=   2.5s\n",
      "[CV] alpha=0.05, penalty=l2 ..........................................\n"
     ]
    },
    {
     "name": "stderr",
     "output_type": "stream",
     "text": [
      "/home/justin/anaconda3/lib/python3.7/site-packages/sklearn/linear_model/stochastic_gradient.py:183: FutureWarning: max_iter and tol parameters have been added in SGDRegressor in 0.19. If max_iter is set but tol is left unset, the default value for tol in 0.19 and 0.20 will be None (which is equivalent to -infinity, so it has no effect) but will change in 0.21 to 1e-3. Specify tol to silence this warning.\n",
      "  FutureWarning)\n"
     ]
    },
    {
     "name": "stdout",
     "output_type": "stream",
     "text": [
      "[CV]  alpha=0.05, penalty=l2, score=-0.009605889959083312, total=   2.7s\n",
      "[CV] alpha=0.05, penalty=l2 ..........................................\n"
     ]
    },
    {
     "name": "stderr",
     "output_type": "stream",
     "text": [
      "/home/justin/anaconda3/lib/python3.7/site-packages/sklearn/linear_model/stochastic_gradient.py:183: FutureWarning: max_iter and tol parameters have been added in SGDRegressor in 0.19. If max_iter is set but tol is left unset, the default value for tol in 0.19 and 0.20 will be None (which is equivalent to -infinity, so it has no effect) but will change in 0.21 to 1e-3. Specify tol to silence this warning.\n",
      "  FutureWarning)\n"
     ]
    },
    {
     "name": "stdout",
     "output_type": "stream",
     "text": [
      "[CV]  alpha=0.05, penalty=l2, score=-0.004508851940491529, total=   2.7s\n",
      "[CV] alpha=0.05, penalty=l2 ..........................................\n"
     ]
    },
    {
     "name": "stderr",
     "output_type": "stream",
     "text": [
      "/home/justin/anaconda3/lib/python3.7/site-packages/sklearn/linear_model/stochastic_gradient.py:183: FutureWarning: max_iter and tol parameters have been added in SGDRegressor in 0.19. If max_iter is set but tol is left unset, the default value for tol in 0.19 and 0.20 will be None (which is equivalent to -infinity, so it has no effect) but will change in 0.21 to 1e-3. Specify tol to silence this warning.\n",
      "  FutureWarning)\n"
     ]
    },
    {
     "name": "stdout",
     "output_type": "stream",
     "text": [
      "[CV]  alpha=0.05, penalty=l2, score=-0.0069987930801819346, total=   2.7s\n",
      "[CV] alpha=0.05, penalty=l2 ..........................................\n"
     ]
    },
    {
     "name": "stderr",
     "output_type": "stream",
     "text": [
      "/home/justin/anaconda3/lib/python3.7/site-packages/sklearn/linear_model/stochastic_gradient.py:183: FutureWarning: max_iter and tol parameters have been added in SGDRegressor in 0.19. If max_iter is set but tol is left unset, the default value for tol in 0.19 and 0.20 will be None (which is equivalent to -infinity, so it has no effect) but will change in 0.21 to 1e-3. Specify tol to silence this warning.\n",
      "  FutureWarning)\n"
     ]
    },
    {
     "name": "stdout",
     "output_type": "stream",
     "text": [
      "[CV]  alpha=0.05, penalty=l2, score=-0.013178492311095169, total=   2.7s\n",
      "[CV] alpha=0.05, penalty=l1 ..........................................\n"
     ]
    },
    {
     "name": "stderr",
     "output_type": "stream",
     "text": [
      "/home/justin/anaconda3/lib/python3.7/site-packages/sklearn/linear_model/stochastic_gradient.py:183: FutureWarning: max_iter and tol parameters have been added in SGDRegressor in 0.19. If max_iter is set but tol is left unset, the default value for tol in 0.19 and 0.20 will be None (which is equivalent to -infinity, so it has no effect) but will change in 0.21 to 1e-3. Specify tol to silence this warning.\n",
      "  FutureWarning)\n"
     ]
    },
    {
     "name": "stdout",
     "output_type": "stream",
     "text": [
      "[CV] . alpha=0.05, penalty=l1, score=-6.252976193924272, total=   3.0s\n",
      "[CV] alpha=0.05, penalty=l1 ..........................................\n"
     ]
    },
    {
     "name": "stderr",
     "output_type": "stream",
     "text": [
      "/home/justin/anaconda3/lib/python3.7/site-packages/sklearn/linear_model/stochastic_gradient.py:183: FutureWarning: max_iter and tol parameters have been added in SGDRegressor in 0.19. If max_iter is set but tol is left unset, the default value for tol in 0.19 and 0.20 will be None (which is equivalent to -infinity, so it has no effect) but will change in 0.21 to 1e-3. Specify tol to silence this warning.\n",
      "  FutureWarning)\n"
     ]
    },
    {
     "name": "stdout",
     "output_type": "stream",
     "text": [
      "[CV] . alpha=0.05, penalty=l1, score=-3.834758856232307, total=   3.0s\n",
      "[CV] alpha=0.05, penalty=l1 ..........................................\n"
     ]
    },
    {
     "name": "stderr",
     "output_type": "stream",
     "text": [
      "/home/justin/anaconda3/lib/python3.7/site-packages/sklearn/linear_model/stochastic_gradient.py:183: FutureWarning: max_iter and tol parameters have been added in SGDRegressor in 0.19. If max_iter is set but tol is left unset, the default value for tol in 0.19 and 0.20 will be None (which is equivalent to -infinity, so it has no effect) but will change in 0.21 to 1e-3. Specify tol to silence this warning.\n",
      "  FutureWarning)\n"
     ]
    },
    {
     "name": "stdout",
     "output_type": "stream",
     "text": [
      "[CV]  alpha=0.05, penalty=l1, score=-3.0291979012193426, total=   2.8s\n",
      "[CV] alpha=0.05, penalty=l1 ..........................................\n"
     ]
    },
    {
     "name": "stderr",
     "output_type": "stream",
     "text": [
      "/home/justin/anaconda3/lib/python3.7/site-packages/sklearn/linear_model/stochastic_gradient.py:183: FutureWarning: max_iter and tol parameters have been added in SGDRegressor in 0.19. If max_iter is set but tol is left unset, the default value for tol in 0.19 and 0.20 will be None (which is equivalent to -infinity, so it has no effect) but will change in 0.21 to 1e-3. Specify tol to silence this warning.\n",
      "  FutureWarning)\n"
     ]
    },
    {
     "name": "stdout",
     "output_type": "stream",
     "text": [
      "[CV]  alpha=0.05, penalty=l1, score=-2.3412110501559065, total=   2.8s\n",
      "[CV] alpha=0.05, penalty=l1 ..........................................\n"
     ]
    },
    {
     "name": "stderr",
     "output_type": "stream",
     "text": [
      "/home/justin/anaconda3/lib/python3.7/site-packages/sklearn/linear_model/stochastic_gradient.py:183: FutureWarning: max_iter and tol parameters have been added in SGDRegressor in 0.19. If max_iter is set but tol is left unset, the default value for tol in 0.19 and 0.20 will be None (which is equivalent to -infinity, so it has no effect) but will change in 0.21 to 1e-3. Specify tol to silence this warning.\n",
      "  FutureWarning)\n"
     ]
    },
    {
     "name": "stdout",
     "output_type": "stream",
     "text": [
      "[CV]  alpha=0.05, penalty=l1, score=-2.1170639660660697, total=   2.8s\n",
      "[CV] alpha=0.1, penalty=none .........................................\n"
     ]
    },
    {
     "name": "stderr",
     "output_type": "stream",
     "text": [
      "/home/justin/anaconda3/lib/python3.7/site-packages/sklearn/linear_model/stochastic_gradient.py:183: FutureWarning: max_iter and tol parameters have been added in SGDRegressor in 0.19. If max_iter is set but tol is left unset, the default value for tol in 0.19 and 0.20 will be None (which is equivalent to -infinity, so it has no effect) but will change in 0.21 to 1e-3. Specify tol to silence this warning.\n",
      "  FutureWarning)\n"
     ]
    },
    {
     "name": "stdout",
     "output_type": "stream",
     "text": [
      "[CV]  alpha=0.1, penalty=none, score=-7.427539414606433, total=   2.7s\n",
      "[CV] alpha=0.1, penalty=none .........................................\n"
     ]
    },
    {
     "name": "stderr",
     "output_type": "stream",
     "text": [
      "/home/justin/anaconda3/lib/python3.7/site-packages/sklearn/linear_model/stochastic_gradient.py:183: FutureWarning: max_iter and tol parameters have been added in SGDRegressor in 0.19. If max_iter is set but tol is left unset, the default value for tol in 0.19 and 0.20 will be None (which is equivalent to -infinity, so it has no effect) but will change in 0.21 to 1e-3. Specify tol to silence this warning.\n",
      "  FutureWarning)\n"
     ]
    },
    {
     "name": "stdout",
     "output_type": "stream",
     "text": [
      "[CV]  alpha=0.1, penalty=none, score=-3.0938211888765483, total=   2.7s\n",
      "[CV] alpha=0.1, penalty=none .........................................\n"
     ]
    },
    {
     "name": "stderr",
     "output_type": "stream",
     "text": [
      "/home/justin/anaconda3/lib/python3.7/site-packages/sklearn/linear_model/stochastic_gradient.py:183: FutureWarning: max_iter and tol parameters have been added in SGDRegressor in 0.19. If max_iter is set but tol is left unset, the default value for tol in 0.19 and 0.20 will be None (which is equivalent to -infinity, so it has no effect) but will change in 0.21 to 1e-3. Specify tol to silence this warning.\n",
      "  FutureWarning)\n"
     ]
    },
    {
     "name": "stdout",
     "output_type": "stream",
     "text": [
      "[CV]  alpha=0.1, penalty=none, score=-2.296869684308005, total=   2.7s\n",
      "[CV] alpha=0.1, penalty=none .........................................\n"
     ]
    },
    {
     "name": "stderr",
     "output_type": "stream",
     "text": [
      "/home/justin/anaconda3/lib/python3.7/site-packages/sklearn/linear_model/stochastic_gradient.py:183: FutureWarning: max_iter and tol parameters have been added in SGDRegressor in 0.19. If max_iter is set but tol is left unset, the default value for tol in 0.19 and 0.20 will be None (which is equivalent to -infinity, so it has no effect) but will change in 0.21 to 1e-3. Specify tol to silence this warning.\n",
      "  FutureWarning)\n"
     ]
    },
    {
     "name": "stdout",
     "output_type": "stream",
     "text": [
      "[CV]  alpha=0.1, penalty=none, score=-1.8567781708745184, total=   2.7s\n",
      "[CV] alpha=0.1, penalty=none .........................................\n"
     ]
    },
    {
     "name": "stderr",
     "output_type": "stream",
     "text": [
      "/home/justin/anaconda3/lib/python3.7/site-packages/sklearn/linear_model/stochastic_gradient.py:183: FutureWarning: max_iter and tol parameters have been added in SGDRegressor in 0.19. If max_iter is set but tol is left unset, the default value for tol in 0.19 and 0.20 will be None (which is equivalent to -infinity, so it has no effect) but will change in 0.21 to 1e-3. Specify tol to silence this warning.\n",
      "  FutureWarning)\n"
     ]
    },
    {
     "name": "stdout",
     "output_type": "stream",
     "text": [
      "[CV]  alpha=0.1, penalty=none, score=-2.3050106305762306, total=   2.7s\n",
      "[CV] alpha=0.1, penalty=l2 ...........................................\n"
     ]
    },
    {
     "name": "stderr",
     "output_type": "stream",
     "text": [
      "/home/justin/anaconda3/lib/python3.7/site-packages/sklearn/linear_model/stochastic_gradient.py:183: FutureWarning: max_iter and tol parameters have been added in SGDRegressor in 0.19. If max_iter is set but tol is left unset, the default value for tol in 0.19 and 0.20 will be None (which is equivalent to -infinity, so it has no effect) but will change in 0.21 to 1e-3. Specify tol to silence this warning.\n",
      "  FutureWarning)\n"
     ]
    },
    {
     "name": "stdout",
     "output_type": "stream",
     "text": [
      "[CV]  alpha=0.1, penalty=l2, score=-0.015476774448514759, total=   2.7s\n",
      "[CV] alpha=0.1, penalty=l2 ...........................................\n"
     ]
    },
    {
     "name": "stderr",
     "output_type": "stream",
     "text": [
      "/home/justin/anaconda3/lib/python3.7/site-packages/sklearn/linear_model/stochastic_gradient.py:183: FutureWarning: max_iter and tol parameters have been added in SGDRegressor in 0.19. If max_iter is set but tol is left unset, the default value for tol in 0.19 and 0.20 will be None (which is equivalent to -infinity, so it has no effect) but will change in 0.21 to 1e-3. Specify tol to silence this warning.\n",
      "  FutureWarning)\n"
     ]
    },
    {
     "name": "stdout",
     "output_type": "stream",
     "text": [
      "[CV]  alpha=0.1, penalty=l2, score=-0.009867378476565233, total=   2.7s\n",
      "[CV] alpha=0.1, penalty=l2 ...........................................\n"
     ]
    },
    {
     "name": "stderr",
     "output_type": "stream",
     "text": [
      "/home/justin/anaconda3/lib/python3.7/site-packages/sklearn/linear_model/stochastic_gradient.py:183: FutureWarning: max_iter and tol parameters have been added in SGDRegressor in 0.19. If max_iter is set but tol is left unset, the default value for tol in 0.19 and 0.20 will be None (which is equivalent to -infinity, so it has no effect) but will change in 0.21 to 1e-3. Specify tol to silence this warning.\n",
      "  FutureWarning)\n"
     ]
    },
    {
     "name": "stdout",
     "output_type": "stream",
     "text": [
      "[CV]  alpha=0.1, penalty=l2, score=-0.004630585162670053, total=   2.7s\n",
      "[CV] alpha=0.1, penalty=l2 ...........................................\n"
     ]
    },
    {
     "name": "stderr",
     "output_type": "stream",
     "text": [
      "/home/justin/anaconda3/lib/python3.7/site-packages/sklearn/linear_model/stochastic_gradient.py:183: FutureWarning: max_iter and tol parameters have been added in SGDRegressor in 0.19. If max_iter is set but tol is left unset, the default value for tol in 0.19 and 0.20 will be None (which is equivalent to -infinity, so it has no effect) but will change in 0.21 to 1e-3. Specify tol to silence this warning.\n",
      "  FutureWarning)\n"
     ]
    },
    {
     "name": "stdout",
     "output_type": "stream",
     "text": [
      "[CV]  alpha=0.1, penalty=l2, score=-0.007237129166065111, total=   2.7s\n",
      "[CV] alpha=0.1, penalty=l2 ...........................................\n"
     ]
    },
    {
     "name": "stderr",
     "output_type": "stream",
     "text": [
      "/home/justin/anaconda3/lib/python3.7/site-packages/sklearn/linear_model/stochastic_gradient.py:183: FutureWarning: max_iter and tol parameters have been added in SGDRegressor in 0.19. If max_iter is set but tol is left unset, the default value for tol in 0.19 and 0.20 will be None (which is equivalent to -infinity, so it has no effect) but will change in 0.21 to 1e-3. Specify tol to silence this warning.\n",
      "  FutureWarning)\n"
     ]
    },
    {
     "name": "stdout",
     "output_type": "stream",
     "text": [
      "[CV]  alpha=0.1, penalty=l2, score=-0.01356167882328304, total=   2.7s\n",
      "[CV] alpha=0.1, penalty=l1 ...........................................\n"
     ]
    },
    {
     "name": "stderr",
     "output_type": "stream",
     "text": [
      "/home/justin/anaconda3/lib/python3.7/site-packages/sklearn/linear_model/stochastic_gradient.py:183: FutureWarning: max_iter and tol parameters have been added in SGDRegressor in 0.19. If max_iter is set but tol is left unset, the default value for tol in 0.19 and 0.20 will be None (which is equivalent to -infinity, so it has no effect) but will change in 0.21 to 1e-3. Specify tol to silence this warning.\n",
      "  FutureWarning)\n"
     ]
    },
    {
     "name": "stdout",
     "output_type": "stream",
     "text": [
      "[CV] . alpha=0.1, penalty=l1, score=-0.8995135414392518, total=   2.8s\n",
      "[CV] alpha=0.1, penalty=l1 ...........................................\n"
     ]
    },
    {
     "name": "stderr",
     "output_type": "stream",
     "text": [
      "/home/justin/anaconda3/lib/python3.7/site-packages/sklearn/linear_model/stochastic_gradient.py:183: FutureWarning: max_iter and tol parameters have been added in SGDRegressor in 0.19. If max_iter is set but tol is left unset, the default value for tol in 0.19 and 0.20 will be None (which is equivalent to -infinity, so it has no effect) but will change in 0.21 to 1e-3. Specify tol to silence this warning.\n",
      "  FutureWarning)\n"
     ]
    },
    {
     "name": "stdout",
     "output_type": "stream",
     "text": [
      "[CV] . alpha=0.1, penalty=l1, score=-0.6946343660727693, total=   2.8s\n",
      "[CV] alpha=0.1, penalty=l1 ...........................................\n"
     ]
    },
    {
     "name": "stderr",
     "output_type": "stream",
     "text": [
      "/home/justin/anaconda3/lib/python3.7/site-packages/sklearn/linear_model/stochastic_gradient.py:183: FutureWarning: max_iter and tol parameters have been added in SGDRegressor in 0.19. If max_iter is set but tol is left unset, the default value for tol in 0.19 and 0.20 will be None (which is equivalent to -infinity, so it has no effect) but will change in 0.21 to 1e-3. Specify tol to silence this warning.\n",
      "  FutureWarning)\n"
     ]
    },
    {
     "name": "stdout",
     "output_type": "stream",
     "text": [
      "[CV] . alpha=0.1, penalty=l1, score=-0.6068782234205196, total=   2.8s\n",
      "[CV] alpha=0.1, penalty=l1 ...........................................\n"
     ]
    },
    {
     "name": "stderr",
     "output_type": "stream",
     "text": [
      "/home/justin/anaconda3/lib/python3.7/site-packages/sklearn/linear_model/stochastic_gradient.py:183: FutureWarning: max_iter and tol parameters have been added in SGDRegressor in 0.19. If max_iter is set but tol is left unset, the default value for tol in 0.19 and 0.20 will be None (which is equivalent to -infinity, so it has no effect) but will change in 0.21 to 1e-3. Specify tol to silence this warning.\n",
      "  FutureWarning)\n"
     ]
    },
    {
     "name": "stdout",
     "output_type": "stream",
     "text": [
      "[CV] . alpha=0.1, penalty=l1, score=-0.5364135631959327, total=   2.8s\n",
      "[CV] alpha=0.1, penalty=l1 ...........................................\n"
     ]
    },
    {
     "name": "stderr",
     "output_type": "stream",
     "text": [
      "/home/justin/anaconda3/lib/python3.7/site-packages/sklearn/linear_model/stochastic_gradient.py:183: FutureWarning: max_iter and tol parameters have been added in SGDRegressor in 0.19. If max_iter is set but tol is left unset, the default value for tol in 0.19 and 0.20 will be None (which is equivalent to -infinity, so it has no effect) but will change in 0.21 to 1e-3. Specify tol to silence this warning.\n",
      "  FutureWarning)\n"
     ]
    },
    {
     "name": "stdout",
     "output_type": "stream",
     "text": [
      "[CV] . alpha=0.1, penalty=l1, score=-0.4528837360798714, total=   2.8s\n"
     ]
    },
    {
     "name": "stderr",
     "output_type": "stream",
     "text": [
      "[Parallel(n_jobs=1)]: Done  45 out of  45 | elapsed:  2.0min finished\n",
      "/home/justin/anaconda3/lib/python3.7/site-packages/sklearn/linear_model/stochastic_gradient.py:183: FutureWarning: max_iter and tol parameters have been added in SGDRegressor in 0.19. If max_iter is set but tol is left unset, the default value for tol in 0.19 and 0.20 will be None (which is equivalent to -infinity, so it has no effect) but will change in 0.21 to 1e-3. Specify tol to silence this warning.\n",
      "  FutureWarning)\n"
     ]
    },
    {
     "name": "stdout",
     "output_type": "stream",
     "text": [
      "Time it took 123.58108019828796\n"
     ]
    }
   ],
   "source": [
    "model = SGDRegressor(loss=\"squared_loss\", penalty='l2', random_state=101, max_iter=5)\n",
    "params= {'penalty':['none','l2','l1'],\n",
    "        'alpha':[5e-4,5e-2, .1]}\n",
    "gs=GridSearchCV(estimator=model,\n",
    "               param_grid=params,\n",
    "               scoring='neg_mean_squared_error',\n",
    "               n_jobs=1,\n",
    "               cv=5,\n",
    "               verbose=3)\n",
    "start=time.time()\n",
    "gs.fit(X_train_vect_lat, y_train_lat)\n",
    "end=time.time()\n",
    "print(\"Time it took {}\".format(end-start))"
   ]
  },
  {
   "cell_type": "code",
   "execution_count": 17,
   "metadata": {},
   "outputs": [],
   "source": [
    "model1 = gs.best_estimator_\n",
    "pipe = Pipeline([('vect',vect_lat),('model',model1)])\n",
    "y_pred = pipe.predict(test_lat.block.values)"
   ]
  },
  {
   "cell_type": "code",
   "execution_count": 18,
   "metadata": {},
   "outputs": [],
   "source": [
    "for idx, val in enumerate(test_lat.index):\n",
    "    df_pd.iloc[val,4] = y_pred[idx] \n"
   ]
  },
  {
   "cell_type": "code",
   "execution_count": 19,
   "metadata": {},
   "outputs": [
    {
     "data": {
      "text/html": [
       "<div>\n",
       "<style scoped>\n",
       "    .dataframe tbody tr th:only-of-type {\n",
       "        vertical-align: middle;\n",
       "    }\n",
       "\n",
       "    .dataframe tbody tr th {\n",
       "        vertical-align: top;\n",
       "    }\n",
       "\n",
       "    .dataframe thead th {\n",
       "        text-align: right;\n",
       "    }\n",
       "</style>\n",
       "<table border=\"1\" class=\"dataframe\">\n",
       "  <thead>\n",
       "    <tr style=\"text-align: right;\">\n",
       "      <th></th>\n",
       "      <th>arrest</th>\n",
       "      <th>block</th>\n",
       "      <th>community_area</th>\n",
       "      <th>district</th>\n",
       "      <th>latitude</th>\n",
       "      <th>longitude</th>\n",
       "    </tr>\n",
       "  </thead>\n",
       "  <tbody>\n",
       "    <tr>\n",
       "      <th>0</th>\n",
       "      <td>True</td>\n",
       "      <td>074XX N OLCOTT AVE</td>\n",
       "      <td>9.0</td>\n",
       "      <td>16.0</td>\n",
       "      <td>42.015614</td>\n",
       "      <td>-87.813912</td>\n",
       "    </tr>\n",
       "    <tr>\n",
       "      <th>1</th>\n",
       "      <td>True</td>\n",
       "      <td>051XX S PULASKI RD</td>\n",
       "      <td>62.0</td>\n",
       "      <td>8.0</td>\n",
       "      <td>41.800465</td>\n",
       "      <td>-87.723370</td>\n",
       "    </tr>\n",
       "    <tr>\n",
       "      <th>2</th>\n",
       "      <td>False</td>\n",
       "      <td>048XX S KARLOV AVE</td>\n",
       "      <td>57.0</td>\n",
       "      <td>8.0</td>\n",
       "      <td>41.805460</td>\n",
       "      <td>-87.725964</td>\n",
       "    </tr>\n",
       "    <tr>\n",
       "      <th>3</th>\n",
       "      <td>True</td>\n",
       "      <td>063XX S NASHVILLE AVE</td>\n",
       "      <td>64.0</td>\n",
       "      <td>8.0</td>\n",
       "      <td>41.777312</td>\n",
       "      <td>-87.786139</td>\n",
       "    </tr>\n",
       "    <tr>\n",
       "      <th>4</th>\n",
       "      <td>False</td>\n",
       "      <td>112XX S ELLIS AVE</td>\n",
       "      <td>50.0</td>\n",
       "      <td>5.0</td>\n",
       "      <td>41.690657</td>\n",
       "      <td>-87.605164</td>\n",
       "    </tr>\n",
       "  </tbody>\n",
       "</table>\n",
       "</div>"
      ],
      "text/plain": [
       "   arrest                  block  community_area  district   latitude  \\\n",
       "0    True     074XX N OLCOTT AVE             9.0      16.0  42.015614   \n",
       "1    True     051XX S PULASKI RD            62.0       8.0  41.800465   \n",
       "2   False     048XX S KARLOV AVE            57.0       8.0  41.805460   \n",
       "3    True  063XX S NASHVILLE AVE            64.0       8.0  41.777312   \n",
       "4   False      112XX S ELLIS AVE            50.0       5.0  41.690657   \n",
       "\n",
       "   longitude  \n",
       "0 -87.813912  \n",
       "1 -87.723370  \n",
       "2 -87.725964  \n",
       "3 -87.786139  \n",
       "4 -87.605164  "
      ]
     },
     "execution_count": 19,
     "metadata": {},
     "output_type": "execute_result"
    }
   ],
   "source": [
    "df_pd.head()"
   ]
  },
  {
   "cell_type": "code",
   "execution_count": 20,
   "metadata": {},
   "outputs": [],
   "source": [
    "df_pd.to_pickle(\"./chicago.pkl\")"
   ]
  },
  {
   "cell_type": "code",
   "execution_count": 6,
   "metadata": {},
   "outputs": [],
   "source": [
    "unpickled_df = pd.read_pickle(\"./chicago.pkl\")\n"
   ]
  },
  {
   "cell_type": "code",
   "execution_count": 7,
   "metadata": {},
   "outputs": [],
   "source": [
    "unpickled_df = pd.concat([df_pd.unique_key, unpickled_df], axis=1, sort=False)"
   ]
  },
  {
   "cell_type": "code",
   "execution_count": 9,
   "metadata": {
    "scrolled": true
   },
   "outputs": [],
   "source": [
    "unpickled_df = unpickled_df.rename(index=str, columns={'latitude':'Latitude1','longitude':'Longitude1'})"
   ]
  },
  {
   "cell_type": "code",
   "execution_count": 10,
   "metadata": {},
   "outputs": [],
   "source": [
    "df_sp2 = spark.createDataFrame(unpickled_df)"
   ]
  },
  {
   "cell_type": "code",
   "execution_count": 11,
   "metadata": {},
   "outputs": [],
   "source": [
    "df = df_sp.join(df_sp2,['unique_key'],\"inner\")"
   ]
  },
  {
   "cell_type": "code",
   "execution_count": 12,
   "metadata": {
    "scrolled": true
   },
   "outputs": [
    {
     "name": "stdout",
     "output_type": "stream",
     "text": [
      "+----------+-----------+-----------------------+-----------------------+----+------------+-------------------+--------------------+------+--------+----+--------+----+--------------+--------+------------+------------+----+-----------------------+------------+-------------+-----------------------------+------+-----------------------+--------------+--------+------------+-------------+\n",
      "|unique_key|case_number|date                   |block                  |iucr|primary_type|description        |location_description|arrest|domestic|beat|district|ward|community_area|fbi_code|x_coordinate|y_coordinate|year|updated_on             |latitude    |longitude    |location                     |arrest|block                  |community_area|district|Latitude1   |Longitude1   |\n",
      "+----------+-----------+-----------------------+-----------------------+----+------------+-------------------+--------------------+------+--------+----+--------+----+--------------+--------+------------+------------+----+-----------------------+------------+-------------+-----------------------------+------+-----------------------+--------------+--------+------------+-------------+\n",
      "|4590      |HP407382   |2008-06-21 00:37:00 UTC|062XX S ASHLAND AVE    |0110|HOMICIDE    |FIRST DEGREE MURDER|STREET              |true  |false   |714 |7       |16  |67            |01A     |1166742     |1863247     |2008|2019-03-19 16:11:22 UTC|41.780313815|-87.66424283 |(41.780313815, -87.66424283) |true  |062XX S ASHLAND AVE    |67.0          |7.0     |41.780313815|-87.66424283 |\n",
      "|4823      |HP659177   |2008-11-01 01:55:00 UTC|028XX N ROCKWELL ST    |0110|HOMICIDE    |FIRST DEGREE MURDER|ALLEY               |false |false   |1411|14      |1   |21            |01A     |1158544     |1918729     |2008|2019-03-19 16:11:22 UTC|41.932733398|-87.692780748|(41.932733398, -87.692780748)|false |028XX N ROCKWELL ST    |21.0          |14.0    |41.932733398|-87.692780748|\n",
      "|4894      |HR112006   |2009-01-08 16:28:00 UTC|059XX S SPRINGFIELD AVE|0110|HOMICIDE    |FIRST DEGREE MURDER|STREET              |false |false   |822 |8       |13  |65            |01A     |1151395     |1864715     |2009|2019-03-18 16:08:09 UTC|41.784656149|-87.72046962 |(41.784656149, -87.72046962) |false |059XX S SPRINGFIELD AVE|65.0          |8.0     |41.784656149|-87.72046962 |\n",
      "|19141     |HR610087   |2009-10-26 23:44:00 UTC|022XX N TRIPP AVE      |0110|HOMICIDE    |FIRST DEGREE MURDER|AUTO                |true  |false   |2522|25      |31  |20            |01A     |1147682     |1914600     |2009|2019-03-18 16:08:09 UTC|41.921618793|-87.732804061|(41.921618793, -87.732804061)|true  |022XX N TRIPP AVE      |20.0          |25.0    |41.921618793|-87.732804061|\n",
      "|19158     |HR626854   |2009-11-04 23:25:00 UTC|054XX W WEST END AVE   |0110|HOMICIDE    |FIRST DEGREE MURDER|STREET              |false |false   |1523|15      |28  |25            |01A     |1140207     |1900947     |2009|2019-03-19 16:11:22 UTC|41.884293718|-87.760604435|(41.884293718, -87.760604435)|false |054XX W WEST END AVE   |25.0          |15.0    |41.884293718|-87.760604435|\n",
      "+----------+-----------+-----------------------+-----------------------+----+------------+-------------------+--------------------+------+--------+----+--------+----+--------------+--------+------------+------------+----+-----------------------+------------+-------------+-----------------------------+------+-----------------------+--------------+--------+------------+-------------+\n",
      "only showing top 5 rows\n",
      "\n"
     ]
    }
   ],
   "source": [
    "df.show(5,False)"
   ]
  },
  {
   "cell_type": "code",
   "execution_count": 6,
   "metadata": {},
   "outputs": [],
   "source": [
    "df_pd = df_sp.select('date','primary_type','domestic','year').toPandas()"
   ]
  },
  {
   "cell_type": "code",
   "execution_count": 13,
   "metadata": {},
   "outputs": [],
   "source": [
    "from pyspark.sql.functions import to_timestamp,year, month, dayofmonth, hour,when \n",
    "from pyspark.sql.functions import lit\n",
    "\n",
    "df_sp_dt = df.withColumn('dt',to_timestamp(df_sp.date,'yyyy-MM-dd HH:mm:ss'))\\\n",
    "        .withColumn('Year',year(col(\"dt\")))\\\n",
    "        .withColumn('Month',month(col(\"dt\")))\\\n",
    "        .withColumn('Hour',hour(col(\"dt\")))\\\n",
    "        .withColumn('Night?', when(col('Hour')>=17,1).otherwise(0))"
   ]
  },
  {
   "cell_type": "code",
   "execution_count": 17,
   "metadata": {},
   "outputs": [],
   "source": [
    "df_sp_dt.rdd.saveAsPickleFile(\"./chicago1.pkl\")\n",
    "\n",
    "pickleRdd = sc.pickleFile(\"./chicago1.pkl\").collect()\n",
    "df2 = spark.createDataFrame(pickleRdd)"
   ]
  },
  {
   "cell_type": "code",
   "execution_count": 18,
   "metadata": {},
   "outputs": [],
   "source": [
    "from pyspark.ml.feature import HashingTF,IDF, Tokenizer\n",
    "tokenizer = Tokenizer(inputCol=\"primary_type\", outputCol=\"words\")\n",
    "wordsData = tokenizer.transform(df_sp_dt)\n",
    "\n",
    "hashingTF = HashingTF(inputCol=\"words\", outputCol=\"rawFeatures\", numFeatures=20)\n",
    "featurizedData = hashingTF.transform(wordsData)\n",
    "\n",
    "idf = IDF(inputCol=\"rawFeatures\", outputCol=\"features\")\n",
    "idfModel = idf.fit(featurizedData)\n",
    "rescaledData = idfModel.transform(featurizedData)"
   ]
  },
  {
   "cell_type": "code",
   "execution_count": 22,
   "metadata": {},
   "outputs": [
    {
     "name": "stdout",
     "output_type": "stream",
     "text": [
      "+----------+-----------+-----------------------+-----------------------+----+-------------------+---------------------------+--------------------+------+--------+----+--------+----+--------------+--------+------------+------------+----+-----------------------+------------+-------------+-----------------------------+------+-----------------------+--------------+--------+------------------+-----------------+-------------------+-----+----+------+-----------------------+----------------------------+-----------------------------------------------------------------------+\n",
      "|unique_key|case_number|date                   |block                  |iucr|primary_type       |description                |location_description|arrest|domestic|beat|district|ward|community_area|fbi_code|x_coordinate|y_coordinate|Year|updated_on             |latitude    |longitude    |location                     |arrest|block                  |community_area|district|Latitude1         |Longitude1       |dt                 |Month|Hour|Night?|words                  |rawFeatures                 |features                                                               |\n",
      "+----------+-----------+-----------------------+-----------------------+----+-------------------+---------------------------+--------------------+------+--------+----+--------+----+--------------+--------+------------+------------+----+-----------------------+------------+-------------+-----------------------------+------+-----------------------+--------------+--------+------------------+-----------------+-------------------+-----+----+------+-----------------------+----------------------------+-----------------------------------------------------------------------+\n",
      "|4590      |HP407382   |2008-06-21 00:37:00 UTC|062XX S ASHLAND AVE    |0110|HOMICIDE           |FIRST DEGREE MURDER        |STREET              |true  |false   |714 |7       |16  |67            |01A     |1166742     |1863247     |2008|2019-03-19 16:11:22 UTC|41.780313815|-87.66424283 |(41.780313815, -87.66424283) |true  |062XX S ASHLAND AVE    |67.0          |7.0     |41.780313815      |-87.66424283     |2008-06-21 00:37:00|6    |0   |0     |[homicide]             |(20,[7],[1.0])              |(20,[7],[3.5906240517008268])                                          |\n",
      "|4823      |HP659177   |2008-11-01 01:55:00 UTC|028XX N ROCKWELL ST    |0110|HOMICIDE           |FIRST DEGREE MURDER        |ALLEY               |false |false   |1411|14      |1   |21            |01A     |1158544     |1918729     |2008|2019-03-19 16:11:22 UTC|41.932733398|-87.692780748|(41.932733398, -87.692780748)|false |028XX N ROCKWELL ST    |21.0          |14.0    |41.932733398      |-87.692780748    |2008-11-01 01:55:00|11   |1   |0     |[homicide]             |(20,[7],[1.0])              |(20,[7],[3.5906240517008268])                                          |\n",
      "|4894      |HR112006   |2009-01-08 16:28:00 UTC|059XX S SPRINGFIELD AVE|0110|HOMICIDE           |FIRST DEGREE MURDER        |STREET              |false |false   |822 |8       |13  |65            |01A     |1151395     |1864715     |2009|2019-03-18 16:08:09 UTC|41.784656149|-87.72046962 |(41.784656149, -87.72046962) |false |059XX S SPRINGFIELD AVE|65.0          |8.0     |41.784656149      |-87.72046962     |2009-01-08 16:28:00|1    |16  |0     |[homicide]             |(20,[7],[1.0])              |(20,[7],[3.5906240517008268])                                          |\n",
      "|19141     |HR610087   |2009-10-26 23:44:00 UTC|022XX N TRIPP AVE      |0110|HOMICIDE           |FIRST DEGREE MURDER        |AUTO                |true  |false   |2522|25      |31  |20            |01A     |1147682     |1914600     |2009|2019-03-18 16:08:09 UTC|41.921618793|-87.732804061|(41.921618793, -87.732804061)|true  |022XX N TRIPP AVE      |20.0          |25.0    |41.921618793      |-87.732804061    |2009-10-26 23:44:00|10   |23  |1     |[homicide]             |(20,[7],[1.0])              |(20,[7],[3.5906240517008268])                                          |\n",
      "|19158     |HR626854   |2009-11-04 23:25:00 UTC|054XX W WEST END AVE   |0110|HOMICIDE           |FIRST DEGREE MURDER        |STREET              |false |false   |1523|15      |28  |25            |01A     |1140207     |1900947     |2009|2019-03-19 16:11:22 UTC|41.884293718|-87.760604435|(41.884293718, -87.760604435)|false |054XX W WEST END AVE   |25.0          |15.0    |41.884293718      |-87.760604435    |2009-11-04 23:25:00|11   |23  |1     |[homicide]             |(20,[7],[1.0])              |(20,[7],[3.5906240517008268])                                          |\n",
      "|19163     |HR632294   |2009-11-08 04:38:00 UTC|015XX W WEBSTER AVE    |0110|HOMICIDE           |FIRST DEGREE MURDER        |STREET              |true  |false   |1811|18      |32  |7             |01A     |1165467     |1914720     |2009|2019-03-18 16:08:09 UTC|41.92158772 |-87.667453883|(41.92158772, -87.667453883) |true  |015XX W WEBSTER AVE    |7.0           |18.0    |41.92158772       |-87.667453883    |2009-11-08 04:38:00|11   |4   |0     |[homicide]             |(20,[7],[1.0])              |(20,[7],[3.5906240517008268])                                          |\n",
      "|19771     |HT143584   |2011-02-03 11:25:00 UTC|006XX N MONTICELLO AVE |0110|HOMICIDE           |FIRST DEGREE MURDER        |STREET              |true  |false   |1122|11      |27  |23            |01A     |1151937     |1904059     |2011|2019-03-19 16:11:22 UTC|41.892610468|-87.717448051|(41.892610468, -87.717448051)|true  |006XX N MONTICELLO AVE |23.0          |11.0    |41.892610468      |-87.717448051    |2011-02-03 11:25:00|2    |11  |0     |[homicide]             |(20,[7],[1.0])              |(20,[7],[3.5906240517008268])                                          |\n",
      "|19907     |HT332736   |2011-06-06 01:50:00 UTC|056XX S MAY ST         |0110|HOMICIDE           |FIRST DEGREE MURDER        |ALLEY               |false |false   |712 |7       |16  |68            |01A     |1169614     |1867393     |2011|2019-03-18 16:08:09 UTC|41.79162912 |-87.653593442|(41.79162912, -87.653593442) |false |056XX S MAY ST         |68.0          |7.0     |41.79162912       |-87.653593442    |2011-06-06 01:50:00|6    |1   |0     |[homicide]             |(20,[7],[1.0])              |(20,[7],[3.5906240517008268])                                          |\n",
      "|19979     |HT411014   |2011-07-22 23:26:00 UTC|005XX E 65TH ST        |0110|HOMICIDE           |FIRST DEGREE MURDER        |STREET              |true  |false   |321 |3       |20  |42            |01A     |1180798     |1862027     |2011|2019-03-19 16:11:22 UTC|41.776654335|-87.612749038|(41.776654335, -87.612749038)|true  |005XX E 65TH ST        |42.0          |3.0     |41.776654335      |-87.612749038    |2011-07-22 23:26:00|7    |23  |1     |[homicide]             |(20,[7],[1.0])              |(20,[7],[3.5906240517008268])                                          |\n",
      "|20532     |HV402064   |2012-07-26 23:17:00 UTC|026XX E 100TH ST       |0110|HOMICIDE           |FIRST DEGREE MURDER        |AUTO                |false |false   |431 |4       |10  |51            |01A     |1195553     |1839091     |2012|2019-03-19 16:11:22 UTC|41.713364123|-87.55941507 |(41.713364123, -87.55941507) |false |026XX E 100TH ST       |51.0          |4.0     |41.713364123      |-87.55941507     |2012-07-26 23:17:00|7    |23  |1     |[homicide]             |(20,[7],[1.0])              |(20,[7],[3.5906240517008268])                                          |\n",
      "|5992495   |HP100080   |2008-01-01 01:00:00 UTC|079XX S MICHIGAN AVE   |031A|ROBBERY            |ARMED: HANDGUN             |STREET              |false |false   |623 |6       |6   |44            |03      |1178525     |1852495     |2008|2018-02-10 15:50:01 UTC|41.750549448|-87.621370913|(41.750549448, -87.621370913)|false |079XX S MICHIGAN AVE   |44.0          |6.0     |41.750549448      |-87.621370913    |2008-01-01 01:00:00|1    |1   |0     |[robbery]              |(20,[3],[1.0])              |(20,[3],[1.866853960948209])                                           |\n",
      "|5992667   |HP100232   |2008-01-01 02:45:00 UTC|012XX S STATE ST       |1310|CRIMINAL DAMAGE    |TO PROPERTY                |RESIDENCE           |false |false   |132 |1       |2   |33            |14      |1176529     |1894846     |2008|2018-02-28 15:56:25 UTC|41.866809567|-87.6274104  |(41.866809567, -87.6274104)  |false |012XX S STATE ST       |33.0          |1.0     |41.866809567      |-87.6274104      |2008-01-01 02:45:00|1    |2   |0     |[criminal, damage]     |(20,[3,15],[1.0,1.0])       |(20,[3,15],[1.866853960948209,1.821048743194095])                      |\n",
      "|5993994   |HP103042   |2008-01-02 15:00:00 UTC|054XX S DAMEN AVE      |0910|MOTOR VEHICLE THEFT|AUTOMOBILE                 |STREET              |false |false   |915 |9       |16  |61            |07      |null        |null        |2008|2015-08-17 15:03:40 UTC|null        |null         |null                         |false |054XX S DAMEN AVE      |61.0          |9.0     |41.844853988847724|-87.6765084324396|2008-01-02 15:00:00|1    |15  |0     |[motor, vehicle, theft]|(20,[9,14,18],[1.0,1.0,1.0])|(20,[9,14,18],[3.0461799661583084,1.106036028538225,2.843325309576777])|\n",
      "|5994348   |HP103077   |2008-01-02 17:00:00 UTC|032XX W WRIGHTWOOD AVE |1320|CRIMINAL DAMAGE    |TO VEHICLE                 |STREET              |false |false   |1412|14      |35  |22            |14      |1153875     |1917094     |2008|2018-02-28 15:56:25 UTC|41.928341269|-87.709982605|(41.928341269, -87.709982605)|false |032XX W WRIGHTWOOD AVE |22.0          |14.0    |41.928341269      |-87.709982605    |2008-01-02 17:00:00|1    |17  |1     |[criminal, damage]     |(20,[3,15],[1.0,1.0])       |(20,[3,15],[1.866853960948209,1.821048743194095])                      |\n",
      "|5996305   |HP103246   |2008-01-01 15:00:00 UTC|003XX W 94TH PL        |4387|OTHER OFFENSE      |VIOLATE ORDER OF PROTECTION|RESIDENCE           |true  |false   |634 |6       |21  |49            |26      |1175842     |1842656     |2008|2018-02-28 15:56:25 UTC|41.723610475|-87.63149665 |(41.723610475, -87.63149665) |true  |003XX W 94TH PL        |49.0          |6.0     |41.723610475      |-87.63149665     |2008-01-01 15:00:00|1    |15  |0     |[other, offense]       |(20,[0,14],[1.0,1.0])       |(20,[0,14],[2.25106257248857,1.106036028538225])                       |\n",
      "|5996550   |HP104902   |2008-01-03 07:20:00 UTC|020XX W DIVISION ST    |0610|BURGLARY           |FORCIBLE ENTRY             |APARTMENT           |false |false   |1312|12      |1   |24            |05      |1162596     |1907988     |2008|2018-02-28 15:56:25 UTC|41.903175327|-87.6781916  |(41.903175327, -87.6781916)  |false |020XX W DIVISION ST    |24.0          |12.0    |41.903175327      |-87.6781916      |2008-01-03 07:20:00|1    |7   |0     |[burglary]             |(20,[16],[1.0])             |(20,[16],[2.6263203597942972])                                         |\n",
      "|5997969   |HP105361   |2008-01-04 04:36:15 UTC|021XX S STATE ST       |1310|CRIMINAL DAMAGE    |TO PROPERTY                |RESTAURANT          |false |false   |134 |1       |3   |33            |14      |1176652     |1890052     |2008|2018-02-28 15:56:25 UTC|41.853651736|-87.627103624|(41.853651736, -87.627103624)|false |021XX S STATE ST       |33.0          |1.0     |41.853651736      |-87.627103624    |2008-01-04 04:36:15|1    |4   |0     |[criminal, damage]     |(20,[3,15],[1.0,1.0])       |(20,[3,15],[1.866853960948209,1.821048743194095])                      |\n",
      "|5999235   |HP104117   |2008-01-03 13:00:00 UTC|019XX N DAYTON ST      |0810|THEFT              |OVER $500                  |STREET              |false |false   |1813|18      |43  |7             |06      |1170321     |1912922     |2008|2018-02-28 15:56:25 UTC|41.916549103|-87.6496718  |(41.916549103, -87.6496718)  |false |019XX N DAYTON ST      |7.0           |18.0    |41.916549103      |-87.6496718      |2008-01-03 13:00:00|1    |13  |0     |[theft]                |(20,[14],[1.0])             |(20,[14],[1.106036028538225])                                          |\n",
      "|5999890   |HP106405   |2008-01-04 17:15:00 UTC|034XX E 118TH ST       |0890|THEFT              |FROM BUILDING              |SMALL RETAIL STORE  |false |false   |433 |4       |10  |55            |06      |1201058     |1827329     |2008|2018-02-28 15:56:25 UTC|41.680950591|-87.539651245|(41.680950591, -87.539651245)|false |034XX E 118TH ST       |55.0          |4.0     |41.680950591      |-87.539651245    |2008-01-04 17:15:00|1    |17  |1     |[theft]                |(20,[14],[1.0])             |(20,[14],[1.106036028538225])                                          |\n",
      "|6000136   |HP107847   |2008-01-05 14:39:00 UTC|059XX W FILLMORE ST    |0560|ASSAULT            |SIMPLE                     |APARTMENT           |true  |false   |1513|15      |29  |25            |08A     |1136740     |1894731     |2008|2018-02-28 15:56:25 UTC|41.867298954|-87.773484772|(41.867298954, -87.773484772)|true  |059XX W FILLMORE ST    |25.0          |15.0    |41.867298954      |-87.773484772    |2008-01-05 14:39:00|1    |14  |0     |[assault]              |(20,[13],[1.0])             |(20,[13],[2.7645454016427986])                                         |\n",
      "+----------+-----------+-----------------------+-----------------------+----+-------------------+---------------------------+--------------------+------+--------+----+--------+----+--------------+--------+------------+------------+----+-----------------------+------------+-------------+-----------------------------+------+-----------------------+--------------+--------+------------------+-----------------+-------------------+-----+----+------+-----------------------+----------------------------+-----------------------------------------------------------------------+\n",
      "only showing top 20 rows\n",
      "\n"
     ]
    }
   ],
   "source": [
    "rescaledData.show(20,False)"
   ]
  },
  {
   "cell_type": "code",
   "execution_count": null,
   "metadata": {},
   "outputs": [],
   "source": [
    "rescaledData"
   ]
  }
 ],
 "metadata": {
  "kernelspec": {
   "display_name": "Python 3",
   "language": "python",
   "name": "python3"
  },
  "language_info": {
   "codemirror_mode": {
    "name": "ipython",
    "version": 3
   },
   "file_extension": ".py",
   "mimetype": "text/x-python",
   "name": "python",
   "nbconvert_exporter": "python",
   "pygments_lexer": "ipython3",
   "version": "3.7.1"
  }
 },
 "nbformat": 4,
 "nbformat_minor": 2
}
